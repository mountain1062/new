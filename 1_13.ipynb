{
  "nbformat": 4,
  "nbformat_minor": 0,
  "metadata": {
    "colab": {
      "name": "1/13.ipynb",
      "provenance": [],
      "collapsed_sections": [],
      "authorship_tag": "ABX9TyPAgBvQddAJ+LvHUiCG53Q8",
      "include_colab_link": true
    },
    "kernelspec": {
      "name": "python3",
      "display_name": "Python 3"
    }
  },
  "cells": [
    {
      "cell_type": "markdown",
      "metadata": {
        "id": "view-in-github",
        "colab_type": "text"
      },
      "source": [
        "<a href=\"https://colab.research.google.com/github/mountain1062/new/blob/master/1_13.ipynb\" target=\"_parent\"><img src=\"https://colab.research.google.com/assets/colab-badge.svg\" alt=\"Open In Colab\"/></a>"
      ]
    },
    {
      "cell_type": "markdown",
      "metadata": {
        "id": "d6xOBiS4e_Gv",
        "colab_type": "text"
      },
      "source": [
        "[memo]\n",
        "ctrl+Enter == run"
      ]
    },
    {
      "cell_type": "code",
      "metadata": {
        "id": "QScQWvAUea_O",
        "colab_type": "code",
        "outputId": "aa4ff86c-a9fe-4fbc-fcf9-c10c1edf055a",
        "colab": {
          "base_uri": "https://localhost:8080/",
          "height": 89
        }
      },
      "source": [
        "print(\"Hello,World!\");print(1);print([1,2,3,]);print(\"Hi\",123)"
      ],
      "execution_count": 0,
      "outputs": [
        {
          "output_type": "stream",
          "text": [
            "Hello,World!\n",
            "1\n",
            "[1, 2, 3]\n",
            "Hi 123\n"
          ],
          "name": "stdout"
        }
      ]
    },
    {
      "cell_type": "code",
      "metadata": {
        "id": "ba0gYYVBe2oP",
        "colab_type": "code",
        "outputId": "31d06dc5-4cc0-421e-93d3-555c1025dcac",
        "colab": {
          "base_uri": "https://localhost:8080/",
          "height": 89
        }
      },
      "source": [
        "print(\"Hello,World!\")\n",
        "print(1)\n",
        "print([1,2,3])\n",
        "print(\"hi\",123)"
      ],
      "execution_count": 0,
      "outputs": [
        {
          "output_type": "stream",
          "text": [
            "Hello,World!\n",
            "1\n",
            "[1, 2, 3]\n",
            "hi 123\n"
          ],
          "name": "stdout"
        }
      ]
    },
    {
      "cell_type": "code",
      "metadata": {
        "id": "L9EYHXUlf0uB",
        "colab_type": "code",
        "outputId": "1c46cd87-1b1e-4e28-fcb6-94908524cde1",
        "colab": {
          "base_uri": "https://localhost:8080/",
          "height": 35
        }
      },
      "source": [
        "language = \"python\"\n",
        "print(language)"
      ],
      "execution_count": 0,
      "outputs": [
        {
          "output_type": "stream",
          "text": [
            "python\n"
          ],
          "name": "stdout"
        }
      ]
    },
    {
      "cell_type": "code",
      "metadata": {
        "id": "syJDgpx3gETq",
        "colab_type": "code",
        "outputId": "943a8eb4-f826-4aa9-8a2b-985cf119f0c7",
        "colab": {
          "base_uri": "https://localhost:8080/",
          "height": 53
        }
      },
      "source": [
        "mess = \"hello world\"\n",
        "print(mess)\n",
        "\n",
        "mess = \"hello py\"\n",
        "print(mess)"
      ],
      "execution_count": 0,
      "outputs": [
        {
          "output_type": "stream",
          "text": [
            "hello world\n",
            "hello py\n"
          ],
          "name": "stdout"
        }
      ]
    },
    {
      "cell_type": "code",
      "metadata": {
        "id": "E1GSSvNrgL6i",
        "colab_type": "code",
        "outputId": "972fd6b1-f5ff-44fc-f1b4-3e5081088e69",
        "colab": {
          "base_uri": "https://localhost:8080/",
          "height": 35
        }
      },
      "source": [
        "x =10\n",
        "x = \"Paul\"\n",
        "print(x)"
      ],
      "execution_count": 0,
      "outputs": [
        {
          "output_type": "stream",
          "text": [
            "Paul\n"
          ],
          "name": "stdout"
        }
      ]
    },
    {
      "cell_type": "code",
      "metadata": {
        "id": "PlfZgkUcgdyh",
        "colab_type": "code",
        "outputId": "3109a36a-6d72-47ef-fb81-6f67aef833e6",
        "colab": {
          "base_uri": "https://localhost:8080/",
          "height": 35
        }
      },
      "source": [
        "x= True\n",
        "print(type(x))"
      ],
      "execution_count": 0,
      "outputs": [
        {
          "output_type": "stream",
          "text": [
            "<class 'bool'>\n"
          ],
          "name": "stdout"
        }
      ]
    },
    {
      "cell_type": "code",
      "metadata": {
        "id": "9veRNgEqhMlB",
        "colab_type": "code",
        "outputId": "6987a8c6-6403-4d3d-daf2-b43fa48703bd",
        "colab": {
          "base_uri": "https://localhost:8080/",
          "height": 125
        }
      },
      "source": [
        "a = float(10)\n",
        "b = int(5.25)\n",
        "c = complex(1)\n",
        "print(type(a))\n",
        "print(type(b))\n",
        "print(type(c))\n",
        "print(a)\n",
        "print(b)\n",
        "print(c)"
      ],
      "execution_count": 0,
      "outputs": [
        {
          "output_type": "stream",
          "text": [
            "<class 'float'>\n",
            "<class 'int'>\n",
            "<class 'complex'>\n",
            "10.0\n",
            "5\n",
            "(1+0j)\n"
          ],
          "name": "stdout"
        }
      ]
    },
    {
      "cell_type": "code",
      "metadata": {
        "id": "tgiEknxrhxBh",
        "colab_type": "code",
        "outputId": "925e0f71-11d0-4679-d4e8-158162689971",
        "colab": {
          "base_uri": "https://localhost:8080/",
          "height": 35
        }
      },
      "source": [
        "print(complex(10))"
      ],
      "execution_count": 0,
      "outputs": [
        {
          "output_type": "stream",
          "text": [
            "(10+0j)\n"
          ],
          "name": "stdout"
        }
      ]
    },
    {
      "cell_type": "code",
      "metadata": {
        "id": "MKFi2nZzh6qJ",
        "colab_type": "code",
        "outputId": "e5595030-e396-4275-81a9-83bba30d780d",
        "colab": {
          "base_uri": "https://localhost:8080/",
          "height": 35
        }
      },
      "source": [
        "x = 4\n",
        "print(not(10<x<1))"
      ],
      "execution_count": 0,
      "outputs": [
        {
          "output_type": "stream",
          "text": [
            "True\n"
          ],
          "name": "stdout"
        }
      ]
    },
    {
      "cell_type": "code",
      "metadata": {
        "id": "Rb54N9-0isNI",
        "colab_type": "code",
        "outputId": "d4f5fbc3-d48d-44c7-ea7b-87889e20631a",
        "colab": {
          "base_uri": "https://localhost:8080/",
          "height": 89
        }
      },
      "source": [
        "x = 5\n",
        "print(3<=x)\n",
        "\n",
        "x= 9\n",
        "print(x>10)\n",
        "\n",
        "x=10\n",
        "print(x!=11)\n",
        "\n",
        "x=100\n",
        "print(x<99)"
      ],
      "execution_count": 0,
      "outputs": [
        {
          "output_type": "stream",
          "text": [
            "True\n",
            "False\n",
            "True\n",
            "False\n"
          ],
          "name": "stdout"
        }
      ]
    },
    {
      "cell_type": "code",
      "metadata": {
        "id": "tZBhhyGnjC-w",
        "colab_type": "code",
        "outputId": "720078de-7b15-4fb5-cc28-05ffff52a9e5",
        "colab": {
          "base_uri": "https://localhost:8080/",
          "height": 35
        }
      },
      "source": [
        "f_name = \"ada\"\n",
        "l_name = \"lovelace\"\n",
        "full = f_name + \" \" + l_name\n",
        "print(full)"
      ],
      "execution_count": 0,
      "outputs": [
        {
          "output_type": "stream",
          "text": [
            "ada lovelace\n"
          ],
          "name": "stdout"
        }
      ]
    },
    {
      "cell_type": "code",
      "metadata": {
        "id": "e7oMg5dyjbTY",
        "colab_type": "code",
        "outputId": "b51514c0-41b9-4cac-8671-81f6b0978ffb",
        "colab": {
          "base_uri": "https://localhost:8080/",
          "height": 35
        }
      },
      "source": [
        "age = 23\n",
        "print(\"happy \" + str(age)+\"rd brithday\")\n"
      ],
      "execution_count": 0,
      "outputs": [
        {
          "output_type": "stream",
          "text": [
            "happy 23rd brithday\n"
          ],
          "name": "stdout"
        }
      ]
    },
    {
      "cell_type": "code",
      "metadata": {
        "id": "xdGLjiQnjw-4",
        "colab_type": "code",
        "outputId": "143ccbe7-e628-4128-ebdf-c5760ce8fc2e",
        "colab": {
          "base_uri": "https://localhost:8080/",
          "height": 35
        }
      },
      "source": [
        "print(\"Are you %s?\"%\"Emma\")"
      ],
      "execution_count": 0,
      "outputs": [
        {
          "output_type": "stream",
          "text": [
            "Are you Emma?\n"
          ],
          "name": "stdout"
        }
      ]
    },
    {
      "cell_type": "code",
      "metadata": {
        "id": "XrpKyE0kj4bH",
        "colab_type": "code",
        "outputId": "4ea52031-4f02-4426-90d4-9f0eb2b4d0e9",
        "colab": {
          "base_uri": "https://localhost:8080/",
          "height": 71
        }
      },
      "source": [
        "print(\"My name is {}\".format(\"William\"))\n",
        "print(\"I'm {} year old\".format(28))\n",
        "print(\"{}*{}={}\".format(3,4,3*4))"
      ],
      "execution_count": 0,
      "outputs": [
        {
          "output_type": "stream",
          "text": [
            "My name is William\n",
            "I'm 28 year old\n",
            "3*4=12\n"
          ],
          "name": "stdout"
        }
      ]
    },
    {
      "cell_type": "code",
      "metadata": {
        "id": "zTJx79QtkXWn",
        "colab_type": "code",
        "outputId": "7895d345-f443-47bc-889d-de73dcd94e55",
        "colab": {
          "base_uri": "https://localhost:8080/",
          "height": 53
        }
      },
      "source": [
        "txt = \"python\"\n",
        "print(txt[-3:-1])\n",
        "\n",
        "txts = txt.split(\"y\")\n",
        "print(txts)"
      ],
      "execution_count": 0,
      "outputs": [
        {
          "output_type": "stream",
          "text": [
            "ho\n",
            "['p', 'thon']\n"
          ],
          "name": "stdout"
        }
      ]
    },
    {
      "cell_type": "code",
      "metadata": {
        "id": "rysCXcDOkmVX",
        "colab_type": "code",
        "outputId": "c10c95f9-4f32-4cd6-d9e1-186592e3037a",
        "colab": {
          "base_uri": "https://localhost:8080/",
          "height": 71
        }
      },
      "source": [
        "stra1 = 'df py ad'\n",
        "print(stra1.strip)\n",
        "print(stra1.rstrip)\n",
        "print(stra1.lstrip)\n"
      ],
      "execution_count": 0,
      "outputs": [
        {
          "output_type": "stream",
          "text": [
            "<built-in method strip of str object at 0x7f4e88fe6af0>\n",
            "<built-in method rstrip of str object at 0x7f4e88fe6af0>\n",
            "<built-in method lstrip of str object at 0x7f4e88fe6af0>\n"
          ],
          "name": "stdout"
        }
      ]
    },
    {
      "cell_type": "code",
      "metadata": {
        "id": "0G3ft-fSlTyA",
        "colab_type": "code",
        "outputId": "3d2413b3-ef32-4d5e-d52c-a4f752344986",
        "colab": {
          "base_uri": "https://localhost:8080/",
          "height": 35
        }
      },
      "source": [
        "a = 23\n",
        "b =33\n",
        "if(a>b): print(\"a is greater than a\")\n",
        "elif a==b: pass\n",
        "else: print(\"b is greater than b\")"
      ],
      "execution_count": 0,
      "outputs": [
        {
          "output_type": "stream",
          "text": [
            "b is greater than b\n"
          ],
          "name": "stdout"
        }
      ]
    },
    {
      "cell_type": "code",
      "metadata": {
        "id": "SzmnaodZls7G",
        "colab_type": "code",
        "outputId": "4f2da4d2-10d1-4c32-a5a8-62c22216c69c",
        "colab": {
          "base_uri": "https://localhost:8080/",
          "height": 35
        }
      },
      "source": [
        "age = 10\n",
        "\n",
        "if age < 8 : print(5000)\n",
        "elif 8<= age <20 : print(15000)\n",
        "elif 20 <= age < 60 : print(20000)\n",
        "else : print(0)"
      ],
      "execution_count": 0,
      "outputs": [
        {
          "output_type": "stream",
          "text": [
            "15000\n"
          ],
          "name": "stdout"
        }
      ]
    },
    {
      "cell_type": "code",
      "metadata": {
        "id": "XpCyv8CzmvF4",
        "colab_type": "code",
        "outputId": "26c355f4-efa1-46d7-d82a-6f4ba0826df5",
        "colab": {
          "base_uri": "https://localhost:8080/",
          "height": 53
        }
      },
      "source": [
        "bi = ['trek','cannondale','redline','specialized']\n",
        "print(bi[2].title())\n",
        "print(bi[2])"
      ],
      "execution_count": 0,
      "outputs": [
        {
          "output_type": "stream",
          "text": [
            "Redline\n",
            "redline\n"
          ],
          "name": "stdout"
        }
      ]
    },
    {
      "cell_type": "code",
      "metadata": {
        "id": "O060En_NnFfu",
        "colab_type": "code",
        "outputId": "e78277fc-cba4-4f52-ae16-2b3658f5bd91",
        "colab": {
          "base_uri": "https://localhost:8080/",
          "height": 89
        }
      },
      "source": [
        "players = ['charles','martian','michael','florence','eli']\n",
        "\n",
        "print(\"My team:\")\n",
        "for player in players[:3]:\n",
        "  print(player)"
      ],
      "execution_count": 0,
      "outputs": [
        {
          "output_type": "stream",
          "text": [
            "My team:\n",
            "charles\n",
            "martian\n",
            "michael\n"
          ],
          "name": "stdout"
        }
      ]
    },
    {
      "cell_type": "code",
      "metadata": {
        "id": "JXs-sucLnjt-",
        "colab_type": "code",
        "outputId": "7757e8ec-b830-4de5-bc9e-094b9e3985cf",
        "colab": {
          "base_uri": "https://localhost:8080/",
          "height": 71
        }
      },
      "source": [
        "motos =['honda','yamaha','suzuki']\n",
        "\n",
        "motos[0] = 'ducati'\n",
        "motos[1:3] = ['hollydavison','bmw']\n",
        "\n",
        "motos.append(\"hghi\")\n",
        "print(motos)\n",
        "\n",
        "motos.insert(2,'hooay')\n",
        "print(motos)\n",
        "\n",
        "\n",
        "motos.sort()\n",
        "print(motos)\n",
        "\n"
      ],
      "execution_count": 0,
      "outputs": [
        {
          "output_type": "stream",
          "text": [
            "['ducati', 'hollydavison', 'bmw', 'hghi']\n",
            "['ducati', 'hollydavison', 'hooay', 'bmw', 'hghi']\n",
            "['bmw', 'ducati', 'hghi', 'hollydavison', 'hooay']\n"
          ],
          "name": "stdout"
        }
      ]
    },
    {
      "cell_type": "code",
      "metadata": {
        "id": "opfvBySWqbQ4",
        "colab_type": "code",
        "outputId": "802441bf-0461-4b27-cdc5-97c359376fc2",
        "colab": {
          "base_uri": "https://localhost:8080/",
          "height": 35
        }
      },
      "source": [
        "print(list(range(10,1,-1)))"
      ],
      "execution_count": 0,
      "outputs": [
        {
          "output_type": "stream",
          "text": [
            "[10, 9, 8, 7, 6, 5, 4, 3, 2]\n"
          ],
          "name": "stdout"
        }
      ]
    },
    {
      "cell_type": "code",
      "metadata": {
        "id": "foL82ih5qki9",
        "colab_type": "code",
        "outputId": "4f724813-af44-4e3d-e9d2-5ae81e10b2a7",
        "colab": {
          "base_uri": "https://localhost:8080/",
          "height": 143
        }
      },
      "source": [
        "items =(\"ruler\",\"pen\",\"eraser\")\n",
        "print(\"type(items)\")\n",
        "nums = 1,2,3\n",
        "print(type(nums))\n",
        "\n",
        "tup1 = tuple(\"python\")\n",
        "print(len(tup1))\n",
        "print(tup1)\n",
        "\n",
        "items=(\"r\",\"p\",\"e\")\n",
        "i1,i2,i3= items\n",
        "print(i1)\n",
        "print(i2)\n",
        "print(i3)"
      ],
      "execution_count": 0,
      "outputs": [
        {
          "output_type": "stream",
          "text": [
            "type(items)\n",
            "<class 'tuple'>\n",
            "6\n",
            "('p', 'y', 't', 'h', 'o', 'n')\n",
            "r\n",
            "p\n",
            "e\n"
          ],
          "name": "stdout"
        }
      ]
    },
    {
      "cell_type": "code",
      "metadata": {
        "id": "Un_94X3MsunW",
        "colab_type": "code",
        "outputId": "55fb216c-142c-4f88-8f34-43be84a5c728",
        "colab": {
          "base_uri": "https://localhost:8080/",
          "height": 35
        }
      },
      "source": [
        "ailen ={'color':'green','points':5,'colors':'red'}\n",
        "print(list(ailen.values()))\n"
      ],
      "execution_count": 0,
      "outputs": [
        {
          "output_type": "stream",
          "text": [
            "['green', 5, 'red']\n"
          ],
          "name": "stdout"
        }
      ]
    },
    {
      "cell_type": "code",
      "metadata": {
        "id": "iDIoGpv5towc",
        "colab_type": "code",
        "outputId": "73d90f58-bdd8-4899-e42b-e8cab1ec29db",
        "colab": {
          "base_uri": "https://localhost:8080/",
          "height": 161
        }
      },
      "source": [
        "content_ratings ={'4+':4433,'9+':987,'12+':1155,'17+':622}\n",
        "print(content_ratings)\n",
        "\n",
        "over_9 = content_ratings['9+']\n",
        "over_17 = content_ratings['17+']\n",
        "\n",
        "print(over_9,\" \",over_17)\n",
        "\n",
        "content_ratings = {}\n",
        "print(content_ratings)\n",
        "\n",
        "content_ratings['4+'] = 4433\n",
        "print(content_ratings)\n",
        "content_ratings['9+'] = 987\n",
        "print(content_ratings)\n",
        "content_ratings['12+'] = 1155\n",
        "print(content_ratings)\n",
        "content_ratings['17+'] = 622\n",
        "print(content_ratings)\n",
        "\n",
        "size_ = len(content_ratings)\n",
        "print(size_)\n",
        "#for range(1,size_):\n",
        " # print(content_ratings)\n",
        "  #content_ratings.popitem()"
      ],
      "execution_count": 0,
      "outputs": [
        {
          "output_type": "stream",
          "text": [
            "{'4+': 4433, '9+': 987, '12+': 1155, '17+': 622}\n",
            "987   622\n",
            "{}\n",
            "{'4+': 4433}\n",
            "{'4+': 4433, '9+': 987}\n",
            "{'4+': 4433, '9+': 987, '12+': 1155}\n",
            "{'4+': 4433, '9+': 987, '12+': 1155, '17+': 622}\n",
            "4\n"
          ],
          "name": "stdout"
        }
      ]
    },
    {
      "cell_type": "code",
      "metadata": {
        "id": "YRrhMWSSwjq0",
        "colab_type": "code",
        "outputId": "e45859e3-b26c-4396-b929-b0d6916575cb",
        "colab": {
          "base_uri": "https://localhost:8080/",
          "height": 197
        }
      },
      "source": [
        "apps_of_ages = {\n",
        "    '4+':4433,\n",
        "    '9+':987,\n",
        "    '12+':1155,\n",
        "    '17+':622\n",
        "}\n",
        "total_apps = 7197\n",
        "ratios = {}\n",
        "percentages = {}\n",
        "\n",
        "for i in apps_of_ages:\n",
        "  ratios[i] = apps_of_ages[i]/total_apps\n",
        "  percentages[i] = ratios[i]*100\n",
        "\n",
        "print(ratios)\n",
        "print(percentages)\n"
      ],
      "execution_count": 0,
      "outputs": [
        {
          "output_type": "stream",
          "text": [
            "4433\n",
            "4+\n",
            "987\n",
            "9+\n",
            "1155\n",
            "12+\n",
            "622\n",
            "17+\n",
            "{'4+': 0.6159510907322495, '9+': 0.13714047519799916, '12+': 0.16048353480616923, '17+': 0.08642489926358204}\n",
            "{'4+': 61.595109073224954, '9+': 13.714047519799916, '12+': 16.04835348061692, '17+': 8.642489926358204}\n"
          ],
          "name": "stdout"
        }
      ]
    },
    {
      "cell_type": "code",
      "metadata": {
        "id": "WJDRwzhWyTtC",
        "colab_type": "code",
        "outputId": "a32ba157-178d-4bb2-f143-f4ba35b09f40",
        "colab": {
          "base_uri": "https://localhost:8080/",
          "height": 125
        }
      },
      "source": [
        "def ds_pet(a_type,pet_name):\n",
        "  print(\"I have a \"+a_type)\n",
        "  print(\"My\"+a_type + \"'s name is \"+pet_name.upper()+\".\\n\")\n",
        "\n",
        "ds_pet('hamster','harry')\n",
        "ds_pet(\"dog\",\"bob\")"
      ],
      "execution_count": 0,
      "outputs": [
        {
          "output_type": "stream",
          "text": [
            "I have a hamster\n",
            "Myhamster's name is HARRY.\n",
            "\n",
            "I have a dog\n",
            "Mydog's name is BOB.\n",
            "\n"
          ],
          "name": "stdout"
        }
      ]
    },
    {
      "cell_type": "code",
      "metadata": {
        "id": "lu9i9JUMzur7",
        "colab_type": "code",
        "outputId": "47288406-c115-43a0-94f2-9855b9c7a9fe",
        "colab": {
          "base_uri": "https://localhost:8080/",
          "height": 125
        }
      },
      "source": [
        "def ds_pet(pet_name,a_type):\n",
        "  if a_type == '' :\n",
        "       a_type = 'cat'\n",
        "  print(\"I have a \"+a_type)\n",
        "  print(\"My\"+a_type + \"'s name is \"+pet_name.upper()+\".\\n\")\n",
        "\n",
        "ds_pet('harry','hamster')\n",
        "ds_pet(\"bob\",'')"
      ],
      "execution_count": 0,
      "outputs": [
        {
          "output_type": "stream",
          "text": [
            "I have a hamster\n",
            "Myhamster's name is HARRY.\n",
            "\n",
            "I have a cat\n",
            "Mycat's name is BOB.\n",
            "\n"
          ],
          "name": "stdout"
        }
      ]
    },
    {
      "cell_type": "code",
      "metadata": {
        "id": "hklxIiCm0yBj",
        "colab_type": "code",
        "outputId": "5569d6a3-3b43-46a4-f3fa-9ac2dbcf2555",
        "colab": {
          "base_uri": "https://localhost:8080/",
          "height": 35
        }
      },
      "source": [
        "def build_person(first_name, last_name,age=''):\n",
        "    person = {'first':first_name,'last':last_name}\n",
        "    if age:\n",
        "        person['age'] = age\n",
        "    return person\n",
        "\n",
        "musi = build_person(\"jimi\",\"hendrix\",45)\n",
        "print(musi)"
      ],
      "execution_count": 0,
      "outputs": [
        {
          "output_type": "stream",
          "text": [
            "{'first': 'jimi', 'last': 'hendrix', 'age': 45}\n"
          ],
          "name": "stdout"
        }
      ]
    },
    {
      "cell_type": "code",
      "metadata": {
        "id": "yxoVXfzK15ei",
        "colab_type": "code",
        "outputId": "22249c3a-dfa4-48e9-f21d-50a80ed09e20",
        "colab": {
          "base_uri": "https://localhost:8080/",
          "height": 53
        }
      },
      "source": [
        "def make_pizz(topp):\n",
        "    print(topp)\n",
        "\n",
        "make_pizz('pepperoni')\n",
        "make_pizz(['chees','dkfsk','adfasd'])"
      ],
      "execution_count": 0,
      "outputs": [
        {
          "output_type": "stream",
          "text": [
            "pepperoni\n",
            "['chees', 'dkfsk', 'adfasd']\n"
          ],
          "name": "stdout"
        }
      ]
    },
    {
      "cell_type": "code",
      "metadata": {
        "id": "3fkRqFgn4ibC",
        "colab_type": "code",
        "outputId": "9992aea9-c822-4ee1-a9ca-aaa98fbf5e05",
        "colab": {
          "base_uri": "https://localhost:8080/",
          "height": 271
        }
      },
      "source": [
        "import requests\n",
        "\n",
        "response = requests.get(\"https://www.google.com\")\n",
        "\n",
        "#print(response.content)\n",
        "\n",
        "print(response.status_code)\n",
        "\n",
        "print(response.headers)\n",
        "\n",
        "for key,value in response.headers.items():\n",
        "    print(key,' ',value)"
      ],
      "execution_count": 0,
      "outputs": [
        {
          "output_type": "stream",
          "text": [
            "200\n",
            "{'Date': 'Mon, 13 Jan 2020 03:14:03 GMT', 'Expires': '-1', 'Cache-Control': 'private, max-age=0', 'Content-Type': 'text/html; charset=ISO-8859-1', 'P3P': 'CP=\"This is not a P3P policy! See g.co/p3phelp for more info.\"', 'Content-Encoding': 'gzip', 'Server': 'gws', 'X-XSS-Protection': '0', 'X-Frame-Options': 'SAMEORIGIN', 'Set-Cookie': '1P_JAR=2020-01-13-03; expires=Wed, 12-Feb-2020 03:14:03 GMT; path=/; domain=.google.com; Secure, NID=195=qDK0HYSsU7wEGRsy82ZwfGRpXawG-RToTuokPMzNWCAHz3O1qoNCoijzLgcEgD8usi7YviDJxXM5qKTFMplWLiNvuMww6tM76ScQAzaHsTKLhIDAbiMeUwOzTssDzqZkOCuvc4XcdiIMiv2WH6mywUBvYQgSB6_SA5PrQ_TXzmY; expires=Tue, 14-Jul-2020 03:14:03 GMT; path=/; domain=.google.com; HttpOnly', 'Transfer-Encoding': 'chunked'}\n",
            "Date   Mon, 13 Jan 2020 03:14:03 GMT\n",
            "Expires   -1\n",
            "Cache-Control   private, max-age=0\n",
            "Content-Type   text/html; charset=ISO-8859-1\n",
            "P3P   CP=\"This is not a P3P policy! See g.co/p3phelp for more info.\"\n",
            "Content-Encoding   gzip\n",
            "Server   gws\n",
            "X-XSS-Protection   0\n",
            "X-Frame-Options   SAMEORIGIN\n",
            "Set-Cookie   1P_JAR=2020-01-13-03; expires=Wed, 12-Feb-2020 03:14:03 GMT; path=/; domain=.google.com; Secure, NID=195=qDK0HYSsU7wEGRsy82ZwfGRpXawG-RToTuokPMzNWCAHz3O1qoNCoijzLgcEgD8usi7YviDJxXM5qKTFMplWLiNvuMww6tM76ScQAzaHsTKLhIDAbiMeUwOzTssDzqZkOCuvc4XcdiIMiv2WH6mywUBvYQgSB6_SA5PrQ_TXzmY; expires=Tue, 14-Jul-2020 03:14:03 GMT; path=/; domain=.google.com; HttpOnly\n",
            "Transfer-Encoding   chunked\n"
          ],
          "name": "stdout"
        }
      ]
    },
    {
      "cell_type": "code",
      "metadata": {
        "id": "Uk1zHvvA5j07",
        "colab_type": "code",
        "colab": {
          "base_uri": "https://localhost:8080/",
          "height": 305
        },
        "outputId": "1b466a63-2966-486f-c5c3-4e2d16ebc26a"
      },
      "source": [
        "!pip install bs4\n",
        "!pip install requests\n",
        "!pip install fake_useragent\n"
      ],
      "execution_count": 118,
      "outputs": [
        {
          "output_type": "stream",
          "text": [
            "Requirement already satisfied: bs4 in /usr/local/lib/python3.6/dist-packages (0.0.1)\n",
            "Requirement already satisfied: beautifulsoup4 in /usr/local/lib/python3.6/dist-packages (from bs4) (4.6.3)\n",
            "Requirement already satisfied: requests in /usr/local/lib/python3.6/dist-packages (2.21.0)\n",
            "Requirement already satisfied: chardet<3.1.0,>=3.0.2 in /usr/local/lib/python3.6/dist-packages (from requests) (3.0.4)\n",
            "Requirement already satisfied: idna<2.9,>=2.5 in /usr/local/lib/python3.6/dist-packages (from requests) (2.8)\n",
            "Requirement already satisfied: certifi>=2017.4.17 in /usr/local/lib/python3.6/dist-packages (from requests) (2019.11.28)\n",
            "Requirement already satisfied: urllib3<1.25,>=1.21.1 in /usr/local/lib/python3.6/dist-packages (from requests) (1.24.3)\n",
            "Collecting fake_useragent\n",
            "  Downloading https://files.pythonhosted.org/packages/d1/79/af647635d6968e2deb57a208d309f6069d31cb138066d7e821e575112a80/fake-useragent-0.1.11.tar.gz\n",
            "Building wheels for collected packages: fake-useragent\n",
            "  Building wheel for fake-useragent (setup.py) ... \u001b[?25l\u001b[?25hdone\n",
            "  Created wheel for fake-useragent: filename=fake_useragent-0.1.11-cp36-none-any.whl size=13485 sha256=ab2468f71129cc0b084415605ef3f2b581aa795c8d572b577ab1a5f9eab5ee48\n",
            "  Stored in directory: /root/.cache/pip/wheels/5e/63/09/d1dc15179f175357d3f5c00cbffbac37f9e8690d80545143ff\n",
            "Successfully built fake-useragent\n",
            "Installing collected packages: fake-useragent\n",
            "Successfully installed fake-useragent-0.1.11\n"
          ],
          "name": "stdout"
        }
      ]
    },
    {
      "cell_type": "code",
      "metadata": {
        "id": "k28lLF9mMLcX",
        "colab_type": "code",
        "colab": {
          "base_uri": "https://localhost:8080/",
          "height": 341
        },
        "outputId": "c8d55cd2-fac9-432e-da46-d7c949379fbb"
      },
      "source": [
        "from bs4 import BeautifulSoup\n",
        "import requests\n",
        "\n",
        "url = \"https://google.com\"\n",
        "\n",
        "resp = requests.get(url)\n",
        "\n",
        "data = resp.text\n",
        "\n",
        "soup = BeautifulSoup(data,'html.parser')\n",
        "\n",
        "tags = soup.find_all('a')\n",
        "\n",
        "for tag in tags:\n",
        "    print(tag.get('href'))"
      ],
      "execution_count": 128,
      "outputs": [
        {
          "output_type": "stream",
          "text": [
            "https://www.google.com/imghp?hl=en&tab=wi\n",
            "https://maps.google.com/maps?hl=en&tab=wl\n",
            "https://play.google.com/?hl=en&tab=w8\n",
            "https://www.youtube.com/?gl=US&tab=w1\n",
            "https://news.google.com/nwshp?hl=en&tab=wn\n",
            "https://mail.google.com/mail/?tab=wm\n",
            "https://drive.google.com/?tab=wo\n",
            "https://www.google.com/intl/en/about/products?tab=wh\n",
            "http://www.google.com/history/optout?hl=en\n",
            "/preferences?hl=en\n",
            "https://accounts.google.com/ServiceLogin?hl=en&passive=true&continue=https://www.google.com/\n",
            "/advanced_search?hl=en&authuser=0\n",
            "/language_tools?hl=en&authuser=0\n",
            "/intl/en/ads/\n",
            "/services/\n",
            "/intl/en/about.html\n",
            "/intl/en/policies/privacy/\n",
            "/intl/en/policies/terms/\n"
          ],
          "name": "stdout"
        }
      ]
    },
    {
      "cell_type": "code",
      "metadata": {
        "id": "JbCSKto6NB-S",
        "colab_type": "code",
        "colab": {
          "base_uri": "https://localhost:8080/",
          "height": 233
        },
        "outputId": "badca713-9818-4e06-a51a-b97a2d5bc51f"
      },
      "source": [
        "import requests\n",
        "\n",
        "resp = requests.get(\"https://edu.ssafy.com\")\n",
        "\n",
        "#print(resp.content)\n",
        "\n",
        "#print(resp.status_code)\n",
        "\n",
        "#print(resp.headers)\n",
        "\n",
        "for key,value in resp.headers.items():\n",
        "    print(key,' ',value)"
      ],
      "execution_count": 130,
      "outputs": [
        {
          "output_type": "stream",
          "text": [
            "Date   Mon, 13 Jan 2020 04:48:01 GMT\n",
            "Server   \n",
            "Last-Modified   Fri, 28 Dec 2018 07:54:54 GMT\n",
            "ETag   \"ca-57e1060e8cf80\"\n",
            "Accept-Ranges   bytes\n",
            "Content-Length   202\n",
            "X-XSS-Protection   1; mode=block\n",
            "Access-Control-Allow-Origin   https://edu.ssafy.com\n",
            "Access-Control-Allow-Credentials   true\n",
            "Connection   close\n",
            "Content-Type   text/html\n",
            "Content-Language   en\n"
          ],
          "name": "stdout"
        }
      ]
    },
    {
      "cell_type": "code",
      "metadata": {
        "id": "PF76j9a_PRnf",
        "colab_type": "code",
        "colab": {
          "base_uri": "https://localhost:8080/",
          "height": 395
        },
        "outputId": "9449bc1a-8df9-4ad2-e6ae-f93731d557bb"
      },
      "source": [
        "from bs4 import BeautifulSoup\n",
        "\n",
        "def read_file(fileName):\n",
        "    file = open(fileName)\n",
        "    data = file.read()\n",
        "    file.close()\n",
        "    return data\n",
        "\n",
        "html_file = read_file('test.html')\n",
        "\n",
        "soup = BeautifulSoup(html_file,'lxml')\n",
        "\n",
        "print(soup.prettify())"
      ],
      "execution_count": 141,
      "outputs": [
        {
          "output_type": "stream",
          "text": [
            "<html lang=\"en&gt;\n",
            "&lt;head&gt;\n",
            "&lt;meta charset=\" utf-8=\"\">\n",
            " <head>\n",
            "  <title>\n",
            "   Intro_to_soup\n",
            "  </title>\n",
            " </head>\n",
            " <body>\n",
            "  <div>\n",
            "   <p>\n",
            "    In first div\n",
            "   </p>\n",
            "  </div>\n",
            "  <div>\n",
            "   <p>\n",
            "    In second div\n",
            "   </p>\n",
            "  </div>\n",
            " </body>\n",
            "</html>\n"
          ],
          "name": "stdout"
        }
      ]
    },
    {
      "cell_type": "code",
      "metadata": {
        "id": "1iENBlM3SFPW",
        "colab_type": "code",
        "colab": {
          "base_uri": "https://localhost:8080/",
          "height": 89
        },
        "outputId": "5cea4fb2-41ca-4d47-c4db-6cf9755a9875"
      },
      "source": [
        "from bs4 import BeautifulSoup\n",
        "soup = BeautifulSoup(read_file('tags.html'),'lxml')\n",
        "\n",
        "meta = soup.meta\n",
        "print(meta)\n",
        "\n",
        "print(meta.get('charset'))\n",
        "\n",
        "body = soup.body\n",
        "\n",
        "print(body['style'])\n",
        "\n",
        "body['style'] = 'some style'\n",
        "\n",
        "print(body['style'])\n"
      ],
      "execution_count": 154,
      "outputs": [
        {
          "output_type": "stream",
          "text": [
            "<meta charset=\"utf-8\"/>\n",
            "UTF-8\n",
            "\n",
            "some style\n"
          ],
          "name": "stdout"
        }
      ]
    },
    {
      "cell_type": "code",
      "metadata": {
        "id": "pzUlkg5qTkLV",
        "colab_type": "code",
        "colab": {
          "base_uri": "https://localhost:8080/",
          "height": 53
        },
        "outputId": "ef65ba6d-40b5-4f3b-ffbf-499251fd8976"
      },
      "source": [
        "from bs4 import BeautifulSoup\n",
        "\n",
        "soup = BeautifulSoup(read_file('test.html'),'lxml')\n",
        "\n",
        "title = soup.title\n",
        "print(title.string)\n",
        "\n",
        "title.string.replace_with(\"title has been changed\")\n",
        "print(title.string)"
      ],
      "execution_count": 155,
      "outputs": [
        {
          "output_type": "stream",
          "text": [
            "Intro_to_soup\n",
            "title has been changed\n"
          ],
          "name": "stdout"
        }
      ]
    },
    {
      "cell_type": "code",
      "metadata": {
        "id": "a0rQHeBFZcjp",
        "colab_type": "code",
        "colab": {
          "base_uri": "https://localhost:8080/",
          "height": 521
        },
        "outputId": "de9cc466-fcbc-4497-b1e8-85dfb37e8e9d"
      },
      "source": [
        "from bs4 import BeautifulSoup\n",
        "soup = BeautifulSoup(read_file('three_sisters.html'),'lxml')\n",
        "\n",
        "body = soup.body\n",
        "print(type(body.contents))\n",
        "\n",
        "for child in body.contents:\n",
        "    print(child if child is not None else '',end='\\n\\n\\n\\n')"
      ],
      "execution_count": 156,
      "outputs": [
        {
          "output_type": "stream",
          "text": [
            "<class 'list'>\n",
            "\n",
            "\n",
            "\n",
            "\n",
            "\n",
            "<b></b>\n",
            "\n",
            "\n",
            "\n",
            "\n",
            "\n",
            "\n",
            "\n",
            "\n",
            "<p class=\"title\">\n",
            "<b>\n",
            "The Dormouse's story\n",
            "</b>\n",
            "</p>\n",
            "\n",
            "\n",
            "\n",
            "\n",
            "\n",
            "\n",
            "\n",
            "\n"
          ],
          "name": "stdout"
        }
      ]
    },
    {
      "cell_type": "code",
      "metadata": {
        "id": "XKocHAw_atga",
        "colab_type": "code",
        "colab": {
          "base_uri": "https://localhost:8080/",
          "height": 341
        },
        "outputId": "28d54184-887e-4ad3-ebd6-5d99ce9d2960"
      },
      "source": [
        "from bs4 import BeautifulSoup\n",
        "soup = BeautifulSoup(read_file('three_sisters.html'),'lxml')\n",
        "\n",
        "body = soup.body\n",
        "\n",
        "child = [c for c in body.contents if c != '\\n']\n",
        "print(len(child))\n",
        "\n",
        "for i,c in enumerate(soup.body.descendants):\n",
        "    print(i,'\\t',c if c != '\\n' else '\\\\n')"
      ],
      "execution_count": 159,
      "outputs": [
        {
          "output_type": "stream",
          "text": [
            "2\n",
            "0 \t \\n\n",
            "1 \t <b></b>\n",
            "2 \t \\n\n",
            "3 \t <p class=\"title\">\n",
            "<b>\n",
            "The Dormouse's story\n",
            "</b>\n",
            "</p>\n",
            "4 \t \\n\n",
            "5 \t <b>\n",
            "The Dormouse's story\n",
            "</b>\n",
            "6 \t \n",
            "The Dormouse's story\n",
            "\n",
            "7 \t \\n\n",
            "8 \t \\n\n"
          ],
          "name": "stdout"
        }
      ]
    },
    {
      "cell_type": "code",
      "metadata": {
        "id": "ca5OPrPkbfvD",
        "colab_type": "code",
        "colab": {
          "base_uri": "https://localhost:8080/",
          "height": 53
        },
        "outputId": "fdc84368-868b-4800-e9a2-64d6ba281212"
      },
      "source": [
        "from bs4 import BeautifulSoup\n",
        "soup = BeautifulSoup(read_file('three_sisters.html'),'lxml')\n",
        "\n",
        "title = soup\n",
        "parent = title.parent\n",
        "print(parent)\n",
        "\n",
        "html = soup.html\n",
        "print(type(html.parent))"
      ],
      "execution_count": 160,
      "outputs": [
        {
          "output_type": "stream",
          "text": [
            "None\n",
            "<class 'bs4.BeautifulSoup'>\n"
          ],
          "name": "stdout"
        }
      ]
    },
    {
      "cell_type": "code",
      "metadata": {
        "id": "o84KrM7Qb6O8",
        "colab_type": "code",
        "colab": {
          "base_uri": "https://localhost:8080/",
          "height": 89
        },
        "outputId": "1e2ca629-b167-40a3-8e2e-7a8137c9329c"
      },
      "source": [
        "from bs4 import BeautifulSoup\n",
        "soup = BeautifulSoup(read_file('t_s.html'),'lxml')\n",
        "\n",
        "link = soup.a \n",
        "for p in link.parents:\n",
        "    print(p.name)"
      ],
      "execution_count": 165,
      "outputs": [
        {
          "output_type": "stream",
          "text": [
            "p\n",
            "body\n",
            "html\n",
            "[document]\n"
          ],
          "name": "stdout"
        }
      ]
    },
    {
      "cell_type": "code",
      "metadata": {
        "id": "S4gZaayYc4aB",
        "colab_type": "code",
        "colab": {
          "base_uri": "https://localhost:8080/",
          "height": 125
        },
        "outputId": "555c0c0d-8ada-458e-9ca1-5b4d6f16b979"
      },
      "source": [
        "from bs4 import BeautifulSoup\n",
        "soup = BeautifulSoup(read_file('t_s2.html'),'lxml')\n",
        "\n",
        "body = soup.body\n",
        "p = soup.body.p\n",
        "\n",
        "print(body.contents)\n",
        "\n",
        "print(p.next_sibling.next_sibling.next_sibling)"
      ],
      "execution_count": 167,
      "outputs": [
        {
          "output_type": "stream",
          "text": [
            "['\\n', <b></b>, '\\n', <p class=\"title\">\n",
            "</p>, '\\n', <p class=\"story\">\n",
            "</p>, '\\n', <p class=\"story\">\n",
            "</p>, '\\n']\n",
            "\n",
            "\n"
          ],
          "name": "stdout"
        }
      ]
    },
    {
      "cell_type": "code",
      "metadata": {
        "id": "Diw-N2a5dpfy",
        "colab_type": "code",
        "colab": {
          "base_uri": "https://localhost:8080/",
          "height": 143
        },
        "outputId": "0c4b7fb7-e9fe-481c-d3d4-792258abfd21"
      },
      "source": [
        "from bs4 import BeautifulSoup\n",
        "soup = BeautifulSoup(read_file('t_s2.html'),'lxml')\n",
        "\n",
        "body = soup.body\n",
        "p = soup.body.p\n",
        "\n",
        "for s in p.next_siblings:\n",
        "    print(s if s != '\\n' else '')"
      ],
      "execution_count": 168,
      "outputs": [
        {
          "output_type": "stream",
          "text": [
            "\n",
            "<p class=\"story\">\n",
            "</p>\n",
            "\n",
            "<p class=\"story\">\n",
            "</p>\n",
            "\n"
          ],
          "name": "stdout"
        }
      ]
    },
    {
      "cell_type": "code",
      "metadata": {
        "id": "t6SXxQvZd4kA",
        "colab_type": "code",
        "colab": {
          "base_uri": "https://localhost:8080/",
          "height": 143
        },
        "outputId": "9d5fd6b3-4301-48e2-fd13-f7f34632d4d8"
      },
      "source": [
        "from bs4 import BeautifulSoup\n",
        "soup = BeautifulSoup(read_file('t_s2.html'),'lxml')\n",
        "\n",
        "body = soup.body\n",
        "\n",
        "print(body.previous_sibling)\n",
        "print(body.previous_sibling.previous_sibling)"
      ],
      "execution_count": 169,
      "outputs": [
        {
          "output_type": "stream",
          "text": [
            "\n",
            "\n",
            "<head>\n",
            "<title>\n",
            "The Dradsfasd\n",
            "</title>\n",
            "</head>\n"
          ],
          "name": "stdout"
        }
      ]
    },
    {
      "cell_type": "code",
      "metadata": {
        "id": "ZvbPTnvPfnQq",
        "colab_type": "code",
        "colab": {
          "base_uri": "https://localhost:8080/",
          "height": 35
        },
        "outputId": "be40fe9f-2a1d-4c66-8c8a-ecd5c26f4458"
      },
      "source": [
        "from bs4 import BeautifulSoup\n",
        "soup = BeautifulSoup(read_file('t_s3.html'),'lxml')\n",
        "\n",
        "\n",
        "attr = {'class' : 'sister','id':'link3'}\n",
        "first_a = soup.find_all('a',attrs=attr)\n",
        "print(first_a)"
      ],
      "execution_count": 176,
      "outputs": [
        {
          "output_type": "stream",
          "text": [
            "[<a class=\"sister\" href=\"http\" id=\"link3\"> Bob </a>]\n"
          ],
          "name": "stdout"
        }
      ]
    },
    {
      "cell_type": "code",
      "metadata": {
        "id": "eBYOnqIOgCjY",
        "colab_type": "code",
        "colab": {
          "base_uri": "https://localhost:8080/",
          "height": 35
        },
        "outputId": "91bce32b-f31a-40cc-ef22-f3f68ab2d109"
      },
      "source": [
        "from bs4 import BeautifulSoup\n",
        "import re\n",
        "soup = BeautifulSoup(read_file('t_s3.html'),'lxml')\n",
        "\n",
        "regex = re.compile('Elsie')\n",
        "tags = soup.find_all(string = regex)\n",
        "print(tags)"
      ],
      "execution_count": 179,
      "outputs": [
        {
          "output_type": "stream",
          "text": [
            "[' Elsie ']\n"
          ],
          "name": "stdout"
        }
      ]
    },
    {
      "cell_type": "code",
      "metadata": {
        "id": "hUV1dsnNglNS",
        "colab_type": "code",
        "colab": {
          "base_uri": "https://localhost:8080/",
          "height": 35
        },
        "outputId": "c75af222-bedb-4a70-975e-5c4c8691deaa"
      },
      "source": [
        "from bs4 import BeautifulSoup\n",
        "\n",
        "soup = BeautifulSoup(read_file('t_s3.html'),'lxml')\n",
        "\n",
        "a_tags = soup.find_all('a',limit=3)\n",
        "print(a_tags)"
      ],
      "execution_count": 181,
      "outputs": [
        {
          "output_type": "stream",
          "text": [
            "[<a class=\"sister\" href=\"http\" id=\"link1\"> Elsie </a>, <a class=\"sister\" href=\"http\" id=\"link2\"> John </a>, <a class=\"sister\" href=\"http\" id=\"link3\"> Bob </a>]\n"
          ],
          "name": "stdout"
        }
      ]
    },
    {
      "cell_type": "code",
      "metadata": {
        "id": "Z0NZ0NVlh5mh",
        "colab_type": "code",
        "colab": {
          "base_uri": "https://localhost:8080/",
          "height": 1000
        },
        "outputId": "70299e32-55dc-4c65-929f-36ade7519acc"
      },
      "source": [
        "from bs4 import BeautifulSoup\n",
        "import requests\n",
        "import re\n",
        "\n",
        "url = \"https://www.consumerreports.org/cro/a-to-z-index/products/index.htm\"\n",
        "\n",
        "resp = requests.get(url)\n",
        "\n",
        "data = resp.text\n",
        "\n",
        "soup = BeautifulSoup(data,'html.parser')\n",
        "\n",
        "attr = {'class':'products-a-z__results__item'}\n",
        "\n",
        "tags = soup.find_all('a',attrs=attr)\n",
        "link = soup.select('a')[0]['href']\n",
        "\n",
        "for i in tags:\n",
        "    print(i.string)\n",
        "    print(link)"
      ],
      "execution_count": 199,
      "outputs": [
        {
          "output_type": "stream",
          "text": [
            "\n",
            "Air Conditioners\n",
            "\n",
            "https://www.consumerreports.org/cro/index.htm\n",
            "\n",
            "Air Filters\n",
            "\n",
            "https://www.consumerreports.org/cro/index.htm\n",
            "\n",
            "Air Fryers\n",
            "\n",
            "https://www.consumerreports.org/cro/index.htm\n",
            "\n",
            "Air Mattresses\n",
            "\n",
            "https://www.consumerreports.org/cro/index.htm\n",
            "\n",
            "Air Purifiers\n",
            "\n",
            "https://www.consumerreports.org/cro/index.htm\n",
            "\n",
            "Airline Travel\n",
            "\n",
            "https://www.consumerreports.org/cro/index.htm\n",
            "\n",
            "All-purpose cleaners\n",
            "\n",
            "https://www.consumerreports.org/cro/index.htm\n",
            "\n",
            "Antivirus Software\n",
            "\n",
            "https://www.consumerreports.org/cro/index.htm\n",
            "\n",
            "Appliance Stores\n",
            "\n",
            "https://www.consumerreports.org/cro/index.htm\n",
            "\n",
            "Athletic shoes\n",
            "\n",
            "https://www.consumerreports.org/cro/index.htm\n",
            "\n",
            "Baby Bathtubs\n",
            "\n",
            "https://www.consumerreports.org/cro/index.htm\n",
            "\n",
            "Baby Food\n",
            "\n",
            "https://www.consumerreports.org/cro/index.htm\n",
            "\n",
            "Baby formulas\n",
            "\n",
            "https://www.consumerreports.org/cro/index.htm\n",
            "\n",
            "Baby Monitors\n",
            "\n",
            "https://www.consumerreports.org/cro/index.htm\n",
            "\n",
            "Backpack Carriers\n",
            "\n",
            "https://www.consumerreports.org/cro/index.htm\n",
            "\n",
            "Backpacks\n",
            "\n",
            "https://www.consumerreports.org/cro/index.htm\n",
            "\n",
            "Bacon\n",
            "\n",
            "https://www.consumerreports.org/cro/index.htm\n",
            "\n",
            "Banks & Credit Unions\n",
            "\n",
            "https://www.consumerreports.org/cro/index.htm\n",
            "\n",
            "Bassinets\n",
            "\n",
            "https://www.consumerreports.org/cro/index.htm\n",
            "\n",
            "Batteries\n",
            "\n",
            "https://www.consumerreports.org/cro/index.htm\n",
            "\n",
            "Beer\n",
            "\n",
            "https://www.consumerreports.org/cro/index.htm\n",
            "\n",
            "Bike Helmets\n",
            "\n",
            "https://www.consumerreports.org/cro/index.htm\n",
            "\n",
            "Bike trailers\n",
            "\n",
            "https://www.consumerreports.org/cro/index.htm\n",
            "\n",
            "Bikes\n",
            "\n",
            "https://www.consumerreports.org/cro/index.htm\n",
            "\n",
            "Blenders\n",
            "\n",
            "https://www.consumerreports.org/cro/index.htm\n",
            "\n",
            "Blood Glucose Meters\n",
            "\n",
            "https://www.consumerreports.org/cro/index.htm\n",
            "\n",
            "Blood Pressure Monitors\n",
            "\n",
            "https://www.consumerreports.org/cro/index.htm\n",
            "\n",
            "Blu-Ray Players\n",
            "\n",
            "https://www.consumerreports.org/cro/index.htm\n",
            "\n",
            "Boilers\n",
            "\n",
            "https://www.consumerreports.org/cro/index.htm\n",
            "\n",
            "Breakfast sandwiches\n",
            "\n",
            "https://www.consumerreports.org/cro/index.htm\n",
            "\n",
            "Breast pumps\n",
            "\n",
            "https://www.consumerreports.org/cro/index.htm\n",
            "\n",
            "Camcorders\n",
            "\n",
            "https://www.consumerreports.org/cro/index.htm\n",
            "\n",
            "Cameras\n",
            "\n",
            "https://www.consumerreports.org/cro/index.htm\n",
            "\n",
            "Car batteries\n",
            "\n",
            "https://www.consumerreports.org/cro/index.htm\n",
            "\n",
            "Car Insurance\n",
            "\n",
            "https://www.consumerreports.org/cro/index.htm\n",
            "\n",
            "Car repair shops\n",
            "\n",
            "https://www.consumerreports.org/cro/index.htm\n",
            "\n",
            "Car Seats\n",
            "\n",
            "https://www.consumerreports.org/cro/index.htm\n",
            "\n",
            "Car wax\n",
            "\n",
            "https://www.consumerreports.org/cro/index.htm\n",
            "\n",
            "Carpet cleaners\n",
            "\n",
            "https://www.consumerreports.org/cro/index.htm\n",
            "\n",
            "Carpet stain removers\n",
            "\n",
            "https://www.consumerreports.org/cro/index.htm\n",
            "\n",
            "Cars\n",
            "\n",
            "https://www.consumerreports.org/cro/index.htm\n",
            "\n",
            "Cell phones & services\n",
            "\n",
            "https://www.consumerreports.org/cro/index.htm\n",
            "\n",
            "Central Air Conditioning\n",
            "\n",
            "https://www.consumerreports.org/cro/index.htm\n",
            "\n",
            "Cereals\n",
            "\n",
            "https://www.consumerreports.org/cro/index.htm\n",
            "\n",
            "Chainsaws\n",
            "\n",
            "https://www.consumerreports.org/cro/index.htm\n",
            "\n",
            "Chocolates\n",
            "\n",
            "https://www.consumerreports.org/cro/index.htm\n",
            "\n",
            "Clothes Dryers\n",
            "\n",
            "https://www.consumerreports.org/cro/index.htm\n",
            "\n",
            "Coffee\n",
            "\n",
            "https://www.consumerreports.org/cro/index.htm\n",
            "\n",
            "Coffee Grinders\n",
            "\n",
            "https://www.consumerreports.org/cro/index.htm\n",
            "\n",
            "Coffee makers\n",
            "\n",
            "https://www.consumerreports.org/cro/index.htm\n",
            "\n",
            "Computer backup systems\n",
            "\n",
            "https://www.consumerreports.org/cro/index.htm\n",
            "\n",
            "Computer monitors\n",
            "\n",
            "https://www.consumerreports.org/cro/index.htm\n",
            "\n",
            "Computers\n",
            "\n",
            "https://www.consumerreports.org/cro/index.htm\n",
            "\n",
            "Convertibles\n",
            "\n",
            "https://www.consumerreports.org/cro/index.htm\n",
            "\n",
            "Cooktops\n",
            "\n",
            "https://www.consumerreports.org/cro/index.htm\n",
            "\n",
            "Cookware\n",
            "\n",
            "https://www.consumerreports.org/cro/index.htm\n",
            "\n",
            "Cordless Drills\n",
            "\n",
            "https://www.consumerreports.org/cro/index.htm\n",
            "\n",
            "Cordless phones\n",
            "\n",
            "https://www.consumerreports.org/cro/index.htm\n",
            "\n",
            "Countertops\n",
            "\n",
            "https://www.consumerreports.org/cro/index.htm\n",
            "\n",
            "Credit cards\n",
            "\n",
            "https://www.consumerreports.org/cro/index.htm\n",
            "\n",
            "Crib bedding\n",
            "\n",
            "https://www.consumerreports.org/cro/index.htm\n",
            "\n",
            "Crib mattresses\n",
            "\n",
            "https://www.consumerreports.org/cro/index.htm\n",
            "\n",
            "Cribs\n",
            "\n",
            "https://www.consumerreports.org/cro/index.htm\n",
            "\n",
            "Customer service\n",
            "\n",
            "https://www.consumerreports.org/cro/index.htm\n",
            "\n",
            "Decking\n",
            "\n",
            "https://www.consumerreports.org/cro/index.htm\n",
            "\n",
            "Dehumidifiers\n",
            "\n",
            "https://www.consumerreports.org/cro/index.htm\n",
            "\n",
            "Diaper bags\n",
            "\n",
            "https://www.consumerreports.org/cro/index.htm\n",
            "\n",
            "Diapers\n",
            "\n",
            "https://www.consumerreports.org/cro/index.htm\n",
            "\n",
            "Diet plans\n",
            "\n",
            "https://www.consumerreports.org/cro/index.htm\n",
            "\n",
            "Dishwasher detergents\n",
            "\n",
            "https://www.consumerreports.org/cro/index.htm\n",
            "\n",
            "Dishwashers\n",
            "\n",
            "https://www.consumerreports.org/cro/index.htm\n",
            "\n",
            "Door Locks\n",
            "\n",
            "https://www.consumerreports.org/cro/index.htm\n",
            "\n",
            "E-book readers\n",
            "\n",
            "https://www.consumerreports.org/cro/index.htm\n",
            "\n",
            "Electric Kettles\n",
            "\n",
            "https://www.consumerreports.org/cro/index.htm\n",
            "\n",
            "Electric razors\n",
            "\n",
            "https://www.consumerreports.org/cro/index.htm\n",
            "\n",
            "Electronics stores\n",
            "\n",
            "https://www.consumerreports.org/cro/index.htm\n",
            "\n",
            "Ellipticals\n",
            "\n",
            "https://www.consumerreports.org/cro/index.htm\n",
            "\n",
            "Entry doors\n",
            "\n",
            "https://www.consumerreports.org/cro/index.htm\n",
            "\n",
            "Exercise bikes\n",
            "\n",
            "https://www.consumerreports.org/cro/index.htm\n",
            "\n",
            "Extended warranties\n",
            "\n",
            "https://www.consumerreports.org/cro/index.htm\n",
            "\n",
            "Eyeglass stores\n",
            "\n",
            "https://www.consumerreports.org/cro/index.htm\n",
            "\n",
            "Fast Food\n",
            "\n",
            "https://www.consumerreports.org/cro/index.htm\n",
            "\n",
            "Fast-food restaurants\n",
            "\n",
            "https://www.consumerreports.org/cro/index.htm\n",
            "\n",
            "Faucets\n",
            "\n",
            "https://www.consumerreports.org/cro/index.htm\n",
            "\n",
            "Fire extinguishers\n",
            "\n",
            "https://www.consumerreports.org/cro/index.htm\n",
            "\n",
            "Fitness trackers\n",
            "\n",
            "https://www.consumerreports.org/cro/index.htm\n",
            "\n",
            "Flooring\n",
            "\n",
            "https://www.consumerreports.org/cro/index.htm\n",
            "\n",
            "Food processors & choppers\n",
            "\n",
            "https://www.consumerreports.org/cro/index.htm\n",
            "\n",
            "Freezers\n",
            "\n",
            "https://www.consumerreports.org/cro/index.htm\n",
            "\n",
            "Frozen Foods\n",
            "\n",
            "https://www.consumerreports.org/cro/index.htm\n",
            "\n",
            "Frozen pizza\n",
            "\n",
            "https://www.consumerreports.org/cro/index.htm\n",
            "\n",
            "Frozen waffles\n",
            "\n",
            "https://www.consumerreports.org/cro/index.htm\n",
            "\n",
            "Garbage disposers\n",
            "\n",
            "https://www.consumerreports.org/cro/index.htm\n",
            "\n",
            "Gas furnaces\n",
            "\n",
            "https://www.consumerreports.org/cro/index.htm\n",
            "\n",
            "Generators\n",
            "\n",
            "https://www.consumerreports.org/cro/index.htm\n",
            "\n",
            "Glues\n",
            "\n",
            "https://www.consumerreports.org/cro/index.htm\n",
            "\n",
            "GPS\n",
            "\n",
            "https://www.consumerreports.org/cro/index.htm\n",
            "\n",
            "Grills\n",
            "\n",
            "https://www.consumerreports.org/cro/index.htm\n",
            "\n",
            "Grocery Stores & Supermarkets\n",
            "\n",
            "https://www.consumerreports.org/cro/index.htm\n",
            "\n",
            "Guacamole\n",
            "\n",
            "https://www.consumerreports.org/cro/index.htm\n",
            "\n",
            "Hair removal\n",
            "\n",
            "https://www.consumerreports.org/cro/index.htm\n",
            "\n",
            "Headlight restoration kits\n",
            "\n",
            "https://www.consumerreports.org/cro/index.htm\n",
            "\n",
            "Headphones\n",
            "\n",
            "https://www.consumerreports.org/cro/index.htm\n",
            "\n",
            "Healthy snacks\n",
            "\n",
            "https://www.consumerreports.org/cro/index.htm\n",
            "\n",
            "Hearing aids\n",
            "\n",
            "https://www.consumerreports.org/cro/index.htm\n",
            "\n",
            "Heart-rate monitors\n",
            "\n",
            "https://www.consumerreports.org/cro/index.htm\n",
            "\n",
            "Heat pumps\n",
            "\n",
            "https://www.consumerreports.org/cro/index.htm\n",
            "\n",
            "High chairs\n",
            "\n",
            "https://www.consumerreports.org/cro/index.htm\n",
            "\n",
            "Home Security Cameras\n",
            "\n",
            "https://www.consumerreports.org/cro/index.htm\n",
            "\n",
            "Home Security Systems\n",
            "\n",
            "https://www.consumerreports.org/cro/index.htm\n",
            "\n",
            "Homeowners insurance\n",
            "\n",
            "https://www.consumerreports.org/cro/index.htm\n",
            "\n",
            "Hotel rooms\n",
            "\n",
            "https://www.consumerreports.org/cro/index.htm\n",
            "\n",
            "Humidifiers\n",
            "\n",
            "https://www.consumerreports.org/cro/index.htm\n",
            "\n",
            "Hybrids/EVs\n",
            "\n",
            "https://www.consumerreports.org/cro/index.htm\n",
            "\n",
            "Ice Creams & Frozen Desserts\n",
            "\n",
            "https://www.consumerreports.org/cro/index.htm\n",
            "\n",
            "Insect Repellents\n",
            "\n",
            "https://www.consumerreports.org/cro/index.htm\n",
            "\n",
            "Investment companies\n",
            "\n",
            "https://www.consumerreports.org/cro/index.htm\n",
            "\n",
            "Juicers\n",
            "\n",
            "https://www.consumerreports.org/cro/index.htm\n",
            "\n",
            "Jump starters\n",
            "\n",
            "https://www.consumerreports.org/cro/index.htm\n",
            "\n",
            "Kitchen cabinets\n",
            "\n",
            "https://www.consumerreports.org/cro/index.htm\n",
            "\n",
            "Kitchen knives\n",
            "\n",
            "https://www.consumerreports.org/cro/index.htm\n",
            "\n",
            "Ladders\n",
            "\n",
            "https://www.consumerreports.org/cro/index.htm\n",
            "\n",
            "Laundry detergents\n",
            "\n",
            "https://www.consumerreports.org/cro/index.htm\n",
            "\n",
            "Laundry Stain Removers\n",
            "\n",
            "https://www.consumerreports.org/cro/index.htm\n",
            "\n",
            "Lawn mowers & tractors\n",
            "\n",
            "https://www.consumerreports.org/cro/index.htm\n",
            "\n",
            "Lead test kits\n",
            "\n",
            "https://www.consumerreports.org/cro/index.htm\n",
            "\n",
            "Leaf Blowers\n",
            "\n",
            "https://www.consumerreports.org/cro/index.htm\n",
            "\n",
            "Lightbulbs\n",
            "\n",
            "https://www.consumerreports.org/cro/index.htm\n",
            "\n",
            "Luggage\n",
            "\n",
            "https://www.consumerreports.org/cro/index.htm\n",
            "\n",
            "Luxury cars\n",
            "\n",
            "https://www.consumerreports.org/cro/index.htm\n",
            "\n",
            "Mattresses\n",
            "\n",
            "https://www.consumerreports.org/cro/index.htm\n",
            "\n",
            "Meat thermometers\n",
            "\n",
            "https://www.consumerreports.org/cro/index.htm\n",
            "\n",
            "Microwave ovens\n",
            "\n",
            "https://www.consumerreports.org/cro/index.htm\n",
            "\n",
            "Milk & Milk Alternatives\n",
            "\n",
            "https://www.consumerreports.org/cro/index.htm\n",
            "\n",
            "Minivans\n",
            "\n",
            "https://www.consumerreports.org/cro/index.htm\n",
            "\n",
            "Mixers\n",
            "\n",
            "https://www.consumerreports.org/cro/index.htm\n",
            "\n",
            "Mobile security software\n",
            "\n",
            "https://www.consumerreports.org/cro/index.htm\n",
            "\n",
            "Motorcycles & scooters\n",
            "\n",
            "https://www.consumerreports.org/cro/index.htm\n",
            "\n",
            "Multi-Cookers\n",
            "\n",
            "https://www.consumerreports.org/cro/index.htm\n",
            "\n",
            "Nursing bras\n",
            "\n",
            "https://www.consumerreports.org/cro/index.htm\n",
            "\n",
            "Paints\n",
            "\n",
            "https://www.consumerreports.org/cro/index.htm\n",
            "\n",
            "Paper towels\n",
            "\n",
            "https://www.consumerreports.org/cro/index.htm\n",
            "\n",
            "Pasta Sauce\n",
            "\n",
            "https://www.consumerreports.org/cro/index.htm\n",
            "\n",
            "Pedometers\n",
            "\n",
            "https://www.consumerreports.org/cro/index.htm\n",
            "\n",
            "Pharmacies\n",
            "\n",
            "https://www.consumerreports.org/cro/index.htm\n",
            "\n",
            "Pickup trucks\n",
            "\n",
            "https://www.consumerreports.org/cro/index.htm\n",
            "\n",
            "Pillows\n",
            "\n",
            "https://www.consumerreports.org/cro/index.htm\n",
            "\n",
            "Play yards\n",
            "\n",
            "https://www.consumerreports.org/cro/index.htm\n",
            "\n",
            "Popcorn\n",
            "\n",
            "https://www.consumerreports.org/cro/index.htm\n",
            "\n",
            "Prepaid cards\n",
            "\n",
            "https://www.consumerreports.org/cro/index.htm\n",
            "\n",
            "Pressure Washers\n",
            "\n",
            "https://www.consumerreports.org/cro/index.htm\n",
            "\n",
            "Printers\n",
            "\n",
            "https://www.consumerreports.org/cro/index.htm\n",
            "\n",
            "Radon test kits\n",
            "\n",
            "https://www.consumerreports.org/cro/index.htm\n",
            "\n",
            "Range hoods\n",
            "\n",
            "https://www.consumerreports.org/cro/index.htm\n",
            "\n",
            "Ranges\n",
            "\n",
            "https://www.consumerreports.org/cro/index.htm\n",
            "\n",
            "Refrigerator thermometers\n",
            "\n",
            "https://www.consumerreports.org/cro/index.htm\n",
            "\n",
            "Refrigerators\n",
            "\n",
            "https://www.consumerreports.org/cro/index.htm\n",
            "\n",
            "Replacement Windows\n",
            "\n",
            "https://www.consumerreports.org/cro/index.htm\n",
            "\n",
            "Restaurants\n",
            "\n",
            "https://www.consumerreports.org/cro/index.htm\n",
            "\n",
            "Rewards cards\n",
            "\n",
            "https://www.consumerreports.org/cro/index.htm\n",
            "\n",
            "Roofing\n",
            "\n",
            "https://www.consumerreports.org/cro/index.htm\n",
            "\n",
            "Rowing machines\n",
            "\n",
            "https://www.consumerreports.org/cro/index.htm\n",
            "\n",
            "Safety gates\n",
            "\n",
            "https://www.consumerreports.org/cro/index.htm\n",
            "\n",
            "Salad dressings\n",
            "\n",
            "https://www.consumerreports.org/cro/index.htm\n",
            "\n",
            "Scales\n",
            "\n",
            "https://www.consumerreports.org/cro/index.htm\n",
            "\n",
            "Sedans\n",
            "\n",
            "https://www.consumerreports.org/cro/index.htm\n",
            "\n",
            "Sewing machines\n",
            "\n",
            "https://www.consumerreports.org/cro/index.htm\n",
            "\n",
            "Sheets\n",
            "\n",
            "https://www.consumerreports.org/cro/index.htm\n",
            "\n",
            "Shopping websites\n",
            "\n",
            "https://www.consumerreports.org/cro/index.htm\n",
            "\n",
            "Showerheads\n",
            "\n",
            "https://www.consumerreports.org/cro/index.htm\n",
            "\n",
            "Siding\n",
            "\n",
            "https://www.consumerreports.org/cro/index.htm\n",
            "\n",
            "Sinks\n",
            "\n",
            "https://www.consumerreports.org/cro/index.htm\n",
            "\n",
            "Slow Cookers\n",
            "\n",
            "https://www.consumerreports.org/cro/index.htm\n",
            "\n",
            "Small cars\n",
            "\n",
            "https://www.consumerreports.org/cro/index.htm\n",
            "\n",
            "Smart Speakers\n",
            "\n",
            "https://www.consumerreports.org/cro/index.htm\n",
            "\n",
            "Smartwatches\n",
            "\n",
            "https://www.consumerreports.org/cro/index.htm\n",
            "\n",
            "Smoke & Carbon Monoxide Detectors\n",
            "\n",
            "https://www.consumerreports.org/cro/index.htm\n",
            "\n",
            "Snow Blowers\n",
            "\n",
            "https://www.consumerreports.org/cro/index.htm\n",
            "\n",
            "Sound bars\n",
            "\n",
            "https://www.consumerreports.org/cro/index.htm\n",
            "\n",
            "Soups & broths\n",
            "\n",
            "https://www.consumerreports.org/cro/index.htm\n",
            "\n",
            "Space Heaters\n",
            "\n",
            "https://www.consumerreports.org/cro/index.htm\n",
            "\n",
            "Spiral hams\n",
            "\n",
            "https://www.consumerreports.org/cro/index.htm\n",
            "\n",
            "Sporting goods stores\n",
            "\n",
            "https://www.consumerreports.org/cro/index.htm\n",
            "\n",
            "Sports cars\n",
            "\n",
            "https://www.consumerreports.org/cro/index.htm\n",
            "\n",
            "Sprinkler Timers\n",
            "\n",
            "https://www.consumerreports.org/cro/index.htm\n",
            "\n",
            "Steam irons\n",
            "\n",
            "https://www.consumerreports.org/cro/index.htm\n",
            "\n",
            "Steam mops\n",
            "\n",
            "https://www.consumerreports.org/cro/index.htm\n",
            "\n",
            "Store credit cards\n",
            "\n",
            "https://www.consumerreports.org/cro/index.htm\n",
            "\n",
            "Streaming Media\n",
            "\n",
            "https://www.consumerreports.org/cro/index.htm\n",
            "\n",
            "String Trimmers\n",
            "\n",
            "https://www.consumerreports.org/cro/index.htm\n",
            "\n",
            "Strollers\n",
            "\n",
            "https://www.consumerreports.org/cro/index.htm\n",
            "\n",
            "Sunscreens\n",
            "\n",
            "https://www.consumerreports.org/cro/index.htm\n",
            "\n",
            "SUVs\n",
            "\n",
            "https://www.consumerreports.org/cro/index.htm\n",
            "\n",
            "Tablets\n",
            "\n",
            "https://www.consumerreports.org/cro/index.htm\n",
            "\n",
            "Telecom services\n",
            "\n",
            "https://www.consumerreports.org/cro/index.htm\n",
            "\n",
            "Thermometers\n",
            "\n",
            "https://www.consumerreports.org/cro/index.htm\n",
            "\n",
            "Thermostats\n",
            "\n",
            "https://www.consumerreports.org/cro/index.htm\n",
            "\n",
            "Tire pressure gauges\n",
            "\n",
            "https://www.consumerreports.org/cro/index.htm\n",
            "\n",
            "Tire Stores\n",
            "\n",
            "https://www.consumerreports.org/cro/index.htm\n",
            "\n",
            "Tires\n",
            "\n",
            "https://www.consumerreports.org/cro/index.htm\n",
            "\n",
            "Toasters & Toaster Ovens\n",
            "\n",
            "https://www.consumerreports.org/cro/index.htm\n",
            "\n",
            "Toilet paper\n",
            "\n",
            "https://www.consumerreports.org/cro/index.htm\n",
            "\n",
            "Toilet-bowl cleaners\n",
            "\n",
            "https://www.consumerreports.org/cro/index.htm\n",
            "\n",
            "Toilets\n",
            "\n",
            "https://www.consumerreports.org/cro/index.htm\n",
            "\n",
            "Toothbrushes\n",
            "\n",
            "https://www.consumerreports.org/cro/index.htm\n",
            "\n",
            "Treadmills\n",
            "\n",
            "https://www.consumerreports.org/cro/index.htm\n",
            "\n",
            "TVs\n",
            "\n",
            "https://www.consumerreports.org/cro/index.htm\n",
            "\n",
            "Vacuum cleaners\n",
            "\n",
            "https://www.consumerreports.org/cro/index.htm\n",
            "\n",
            "Veggie burgers\n",
            "\n",
            "https://www.consumerreports.org/cro/index.htm\n",
            "\n",
            "Video-game consoles\n",
            "\n",
            "https://www.consumerreports.org/cro/index.htm\n",
            "\n",
            "Waffle Makers\n",
            "\n",
            "https://www.consumerreports.org/cro/index.htm\n",
            "\n",
            "Wagons\n",
            "\n",
            "https://www.consumerreports.org/cro/index.htm\n",
            "\n",
            "Wall Ovens\n",
            "\n",
            "https://www.consumerreports.org/cro/index.htm\n",
            "\n",
            "Washing Machines\n",
            "\n",
            "https://www.consumerreports.org/cro/index.htm\n",
            "\n",
            "Water Filters\n",
            "\n",
            "https://www.consumerreports.org/cro/index.htm\n",
            "\n",
            "Water Heaters\n",
            "\n",
            "https://www.consumerreports.org/cro/index.htm\n",
            "\n",
            "Wet/dry vacuums\n",
            "\n",
            "https://www.consumerreports.org/cro/index.htm\n",
            "\n",
            "Wine chillers\n",
            "\n",
            "https://www.consumerreports.org/cro/index.htm\n",
            "\n",
            "Wines\n",
            "\n",
            "https://www.consumerreports.org/cro/index.htm\n",
            "\n",
            "Wiper blades\n",
            "\n",
            "https://www.consumerreports.org/cro/index.htm\n",
            "\n",
            "Wireless & Bluetooth Speakers\n",
            "\n",
            "https://www.consumerreports.org/cro/index.htm\n",
            "\n",
            "Wireless Routers\n",
            "\n",
            "https://www.consumerreports.org/cro/index.htm\n",
            "\n",
            "Wood stains\n",
            "\n",
            "https://www.consumerreports.org/cro/index.htm\n",
            "\n",
            "Yogurt\n",
            "\n",
            "https://www.consumerreports.org/cro/index.htm\n"
          ],
          "name": "stdout"
        }
      ]
    },
    {
      "cell_type": "code",
      "metadata": {
        "id": "llNeS5ZKpDD4",
        "colab_type": "code",
        "colab": {}
      },
      "source": [
        ""
      ],
      "execution_count": 0,
      "outputs": []
    }
  ]
}