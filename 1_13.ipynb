{
  "nbformat": 4,
  "nbformat_minor": 0,
  "metadata": {
    "colab": {
      "name": "1/13.ipynb",
      "provenance": [],
      "authorship_tag": "ABX9TyOmLLJe/gBQJWpKlb1BDnJo",
      "include_colab_link": true
    },
    "kernelspec": {
      "name": "python3",
      "display_name": "Python 3"
    }
  },
  "cells": [
    {
      "cell_type": "markdown",
      "metadata": {
        "id": "view-in-github",
        "colab_type": "text"
      },
      "source": [
        "<a href=\"https://colab.research.google.com/github/mountain1062/new/blob/master/1_13.ipynb\" target=\"_parent\"><img src=\"https://colab.research.google.com/assets/colab-badge.svg\" alt=\"Open In Colab\"/></a>"
      ]
    },
    {
      "cell_type": "markdown",
      "metadata": {
        "id": "d6xOBiS4e_Gv",
        "colab_type": "text"
      },
      "source": [
        "[memo]\n",
        "ctrl+Enter == run"
      ]
    },
    {
      "cell_type": "code",
      "metadata": {
        "id": "QScQWvAUea_O",
        "colab_type": "code",
        "outputId": "aa4ff86c-a9fe-4fbc-fcf9-c10c1edf055a",
        "colab": {
          "base_uri": "https://localhost:8080/",
          "height": 89
        }
      },
      "source": [
        "print(\"Hello,World!\");print(1);print([1,2,3,]);print(\"Hi\",123)"
      ],
      "execution_count": 1,
      "outputs": [
        {
          "output_type": "stream",
          "text": [
            "Hello,World!\n",
            "1\n",
            "[1, 2, 3]\n",
            "Hi 123\n"
          ],
          "name": "stdout"
        }
      ]
    },
    {
      "cell_type": "code",
      "metadata": {
        "id": "ba0gYYVBe2oP",
        "colab_type": "code",
        "outputId": "31d06dc5-4cc0-421e-93d3-555c1025dcac",
        "colab": {
          "base_uri": "https://localhost:8080/",
          "height": 89
        }
      },
      "source": [
        "print(\"Hello,World!\")\n",
        "print(1)\n",
        "print([1,2,3])\n",
        "print(\"hi\",123)"
      ],
      "execution_count": 2,
      "outputs": [
        {
          "output_type": "stream",
          "text": [
            "Hello,World!\n",
            "1\n",
            "[1, 2, 3]\n",
            "hi 123\n"
          ],
          "name": "stdout"
        }
      ]
    },
    {
      "cell_type": "code",
      "metadata": {
        "id": "L9EYHXUlf0uB",
        "colab_type": "code",
        "outputId": "1c46cd87-1b1e-4e28-fcb6-94908524cde1",
        "colab": {
          "base_uri": "https://localhost:8080/",
          "height": 35
        }
      },
      "source": [
        "language = \"python\"\n",
        "print(language)"
      ],
      "execution_count": 3,
      "outputs": [
        {
          "output_type": "stream",
          "text": [
            "python\n"
          ],
          "name": "stdout"
        }
      ]
    },
    {
      "cell_type": "code",
      "metadata": {
        "id": "syJDgpx3gETq",
        "colab_type": "code",
        "outputId": "943a8eb4-f826-4aa9-8a2b-985cf119f0c7",
        "colab": {
          "base_uri": "https://localhost:8080/",
          "height": 53
        }
      },
      "source": [
        "mess = \"hello world\"\n",
        "print(mess)\n",
        "\n",
        "mess = \"hello py\"\n",
        "print(mess)"
      ],
      "execution_count": 4,
      "outputs": [
        {
          "output_type": "stream",
          "text": [
            "hello world\n",
            "hello py\n"
          ],
          "name": "stdout"
        }
      ]
    },
    {
      "cell_type": "code",
      "metadata": {
        "id": "E1GSSvNrgL6i",
        "colab_type": "code",
        "colab": {
          "base_uri": "https://localhost:8080/",
          "height": 35
        },
        "outputId": "972fd6b1-f5ff-44fc-f1b4-3e5081088e69"
      },
      "source": [
        "x =10\n",
        "x = \"Paul\"\n",
        "print(x)"
      ],
      "execution_count": 5,
      "outputs": [
        {
          "output_type": "stream",
          "text": [
            "Paul\n"
          ],
          "name": "stdout"
        }
      ]
    },
    {
      "cell_type": "code",
      "metadata": {
        "id": "PlfZgkUcgdyh",
        "colab_type": "code",
        "outputId": "3109a36a-6d72-47ef-fb81-6f67aef833e6",
        "colab": {
          "base_uri": "https://localhost:8080/",
          "height": 35
        }
      },
      "source": [
        "x= True\n",
        "print(type(x))"
      ],
      "execution_count": 6,
      "outputs": [
        {
          "output_type": "stream",
          "text": [
            "<class 'bool'>\n"
          ],
          "name": "stdout"
        }
      ]
    },
    {
      "cell_type": "code",
      "metadata": {
        "id": "9veRNgEqhMlB",
        "colab_type": "code",
        "outputId": "6987a8c6-6403-4d3d-daf2-b43fa48703bd",
        "colab": {
          "base_uri": "https://localhost:8080/",
          "height": 125
        }
      },
      "source": [
        "a = float(10)\n",
        "b = int(5.25)\n",
        "c = complex(1)\n",
        "print(type(a))\n",
        "print(type(b))\n",
        "print(type(c))\n",
        "print(a)\n",
        "print(b)\n",
        "print(c)"
      ],
      "execution_count": 7,
      "outputs": [
        {
          "output_type": "stream",
          "text": [
            "<class 'float'>\n",
            "<class 'int'>\n",
            "<class 'complex'>\n",
            "10.0\n",
            "5\n",
            "(1+0j)\n"
          ],
          "name": "stdout"
        }
      ]
    },
    {
      "cell_type": "code",
      "metadata": {
        "id": "tgiEknxrhxBh",
        "colab_type": "code",
        "outputId": "925e0f71-11d0-4679-d4e8-158162689971",
        "colab": {
          "base_uri": "https://localhost:8080/",
          "height": 35
        }
      },
      "source": [
        "print(complex(10))"
      ],
      "execution_count": 8,
      "outputs": [
        {
          "output_type": "stream",
          "text": [
            "(10+0j)\n"
          ],
          "name": "stdout"
        }
      ]
    },
    {
      "cell_type": "code",
      "metadata": {
        "id": "MKFi2nZzh6qJ",
        "colab_type": "code",
        "outputId": "e5595030-e396-4275-81a9-83bba30d780d",
        "colab": {
          "base_uri": "https://localhost:8080/",
          "height": 35
        }
      },
      "source": [
        "x = 4\n",
        "print(not(10<x<1))"
      ],
      "execution_count": 9,
      "outputs": [
        {
          "output_type": "stream",
          "text": [
            "True\n"
          ],
          "name": "stdout"
        }
      ]
    },
    {
      "cell_type": "code",
      "metadata": {
        "id": "Rb54N9-0isNI",
        "colab_type": "code",
        "colab": {
          "base_uri": "https://localhost:8080/",
          "height": 89
        },
        "outputId": "d4f5fbc3-d48d-44c7-ea7b-87889e20631a"
      },
      "source": [
        "x = 5\n",
        "print(3<=x)\n",
        "\n",
        "x= 9\n",
        "print(x>10)\n",
        "\n",
        "x=10\n",
        "print(x!=11)\n",
        "\n",
        "x=100\n",
        "print(x<99)"
      ],
      "execution_count": 10,
      "outputs": [
        {
          "output_type": "stream",
          "text": [
            "True\n",
            "False\n",
            "True\n",
            "False\n"
          ],
          "name": "stdout"
        }
      ]
    },
    {
      "cell_type": "code",
      "metadata": {
        "id": "tZBhhyGnjC-w",
        "colab_type": "code",
        "colab": {
          "base_uri": "https://localhost:8080/",
          "height": 35
        },
        "outputId": "720078de-7b15-4fb5-cc28-05ffff52a9e5"
      },
      "source": [
        "f_name = \"ada\"\n",
        "l_name = \"lovelace\"\n",
        "full = f_name + \" \" + l_name\n",
        "print(full)"
      ],
      "execution_count": 11,
      "outputs": [
        {
          "output_type": "stream",
          "text": [
            "ada lovelace\n"
          ],
          "name": "stdout"
        }
      ]
    },
    {
      "cell_type": "code",
      "metadata": {
        "id": "e7oMg5dyjbTY",
        "colab_type": "code",
        "colab": {
          "base_uri": "https://localhost:8080/",
          "height": 35
        },
        "outputId": "b51514c0-41b9-4cac-8671-81f6b0978ffb"
      },
      "source": [
        "age = 23\n",
        "print(\"happy \" + str(age)+\"rd brithday\")\n"
      ],
      "execution_count": 13,
      "outputs": [
        {
          "output_type": "stream",
          "text": [
            "happy 23rd brithday\n"
          ],
          "name": "stdout"
        }
      ]
    },
    {
      "cell_type": "code",
      "metadata": {
        "id": "xdGLjiQnjw-4",
        "colab_type": "code",
        "colab": {
          "base_uri": "https://localhost:8080/",
          "height": 35
        },
        "outputId": "143ccbe7-e628-4128-ebdf-c5760ce8fc2e"
      },
      "source": [
        "print(\"Are you %s?\"%\"Emma\")"
      ],
      "execution_count": 14,
      "outputs": [
        {
          "output_type": "stream",
          "text": [
            "Are you Emma?\n"
          ],
          "name": "stdout"
        }
      ]
    },
    {
      "cell_type": "code",
      "metadata": {
        "id": "XrpKyE0kj4bH",
        "colab_type": "code",
        "colab": {
          "base_uri": "https://localhost:8080/",
          "height": 71
        },
        "outputId": "4ea52031-4f02-4426-90d4-9f0eb2b4d0e9"
      },
      "source": [
        "print(\"My name is {}\".format(\"William\"))\n",
        "print(\"I'm {} year old\".format(28))\n",
        "print(\"{}*{}={}\".format(3,4,3*4))"
      ],
      "execution_count": 16,
      "outputs": [
        {
          "output_type": "stream",
          "text": [
            "My name is William\n",
            "I'm 28 year old\n",
            "3*4=12\n"
          ],
          "name": "stdout"
        }
      ]
    },
    {
      "cell_type": "code",
      "metadata": {
        "id": "zTJx79QtkXWn",
        "colab_type": "code",
        "colab": {
          "base_uri": "https://localhost:8080/",
          "height": 53
        },
        "outputId": "7895d345-f443-47bc-889d-de73dcd94e55"
      },
      "source": [
        "txt = \"python\"\n",
        "print(txt[-3:-1])\n",
        "\n",
        "txts = txt.split(\"y\")\n",
        "print(txts)"
      ],
      "execution_count": 19,
      "outputs": [
        {
          "output_type": "stream",
          "text": [
            "ho\n",
            "['p', 'thon']\n"
          ],
          "name": "stdout"
        }
      ]
    },
    {
      "cell_type": "code",
      "metadata": {
        "id": "rysCXcDOkmVX",
        "colab_type": "code",
        "colab": {
          "base_uri": "https://localhost:8080/",
          "height": 71
        },
        "outputId": "c10c95f9-4f32-4cd6-d9e1-186592e3037a"
      },
      "source": [
        "stra1 = 'df py ad'\n",
        "print(stra1.strip)\n",
        "print(stra1.rstrip)\n",
        "print(stra1.lstrip)\n"
      ],
      "execution_count": 22,
      "outputs": [
        {
          "output_type": "stream",
          "text": [
            "<built-in method strip of str object at 0x7f4e88fe6af0>\n",
            "<built-in method rstrip of str object at 0x7f4e88fe6af0>\n",
            "<built-in method lstrip of str object at 0x7f4e88fe6af0>\n"
          ],
          "name": "stdout"
        }
      ]
    },
    {
      "cell_type": "code",
      "metadata": {
        "id": "0G3ft-fSlTyA",
        "colab_type": "code",
        "colab": {
          "base_uri": "https://localhost:8080/",
          "height": 35
        },
        "outputId": "3d2413b3-ef32-4d5e-d52c-a4f752344986"
      },
      "source": [
        "a = 23\n",
        "b =33\n",
        "if(a>b): print(\"a is greater than a\")\n",
        "elif a==b: pass\n",
        "else: print(\"b is greater than b\")"
      ],
      "execution_count": 24,
      "outputs": [
        {
          "output_type": "stream",
          "text": [
            "b is greater than b\n"
          ],
          "name": "stdout"
        }
      ]
    },
    {
      "cell_type": "code",
      "metadata": {
        "id": "SzmnaodZls7G",
        "colab_type": "code",
        "colab": {
          "base_uri": "https://localhost:8080/",
          "height": 35
        },
        "outputId": "4f2da4d2-10d1-4c32-a5a8-62c22216c69c"
      },
      "source": [
        "age = 10\n",
        "\n",
        "if age < 8 : print(5000)\n",
        "elif 8<= age <20 : print(15000)\n",
        "elif 20 <= age < 60 : print(20000)\n",
        "else : print(0)"
      ],
      "execution_count": 29,
      "outputs": [
        {
          "output_type": "stream",
          "text": [
            "15000\n"
          ],
          "name": "stdout"
        }
      ]
    },
    {
      "cell_type": "code",
      "metadata": {
        "id": "XpCyv8CzmvF4",
        "colab_type": "code",
        "colab": {
          "base_uri": "https://localhost:8080/",
          "height": 53
        },
        "outputId": "26c355f4-efa1-46d7-d82a-6f4ba0826df5"
      },
      "source": [
        "bi = ['trek','cannondale','redline','specialized']\n",
        "print(bi[2].title())\n",
        "print(bi[2])"
      ],
      "execution_count": 31,
      "outputs": [
        {
          "output_type": "stream",
          "text": [
            "Redline\n",
            "redline\n"
          ],
          "name": "stdout"
        }
      ]
    },
    {
      "cell_type": "code",
      "metadata": {
        "id": "O060En_NnFfu",
        "colab_type": "code",
        "colab": {
          "base_uri": "https://localhost:8080/",
          "height": 89
        },
        "outputId": "e78277fc-cba4-4f52-ae16-2b3658f5bd91"
      },
      "source": [
        "players = ['charles','martian','michael','florence','eli']\n",
        "\n",
        "print(\"My team:\")\n",
        "for player in players[:3]:\n",
        "  print(player)"
      ],
      "execution_count": 34,
      "outputs": [
        {
          "output_type": "stream",
          "text": [
            "My team:\n",
            "charles\n",
            "martian\n",
            "michael\n"
          ],
          "name": "stdout"
        }
      ]
    },
    {
      "cell_type": "code",
      "metadata": {
        "id": "JXs-sucLnjt-",
        "colab_type": "code",
        "colab": {
          "base_uri": "https://localhost:8080/",
          "height": 71
        },
        "outputId": "7757e8ec-b830-4de5-bc9e-094b9e3985cf"
      },
      "source": [
        "motos =['honda','yamaha','suzuki']\n",
        "\n",
        "motos[0] = 'ducati'\n",
        "motos[1:3] = ['hollydavison','bmw']\n",
        "\n",
        "motos.append(\"hghi\")\n",
        "print(motos)\n",
        "\n",
        "motos.insert(2,'hooay')\n",
        "print(motos)\n",
        "\n",
        "\n",
        "motos.sort()\n",
        "print(motos)\n",
        "\n"
      ],
      "execution_count": 40,
      "outputs": [
        {
          "output_type": "stream",
          "text": [
            "['ducati', 'hollydavison', 'bmw', 'hghi']\n",
            "['ducati', 'hollydavison', 'hooay', 'bmw', 'hghi']\n",
            "['bmw', 'ducati', 'hghi', 'hollydavison', 'hooay']\n"
          ],
          "name": "stdout"
        }
      ]
    },
    {
      "cell_type": "code",
      "metadata": {
        "id": "opfvBySWqbQ4",
        "colab_type": "code",
        "colab": {
          "base_uri": "https://localhost:8080/",
          "height": 35
        },
        "outputId": "802441bf-0461-4b27-cdc5-97c359376fc2"
      },
      "source": [
        "print(list(range(10,1,-1)))"
      ],
      "execution_count": 44,
      "outputs": [
        {
          "output_type": "stream",
          "text": [
            "[10, 9, 8, 7, 6, 5, 4, 3, 2]\n"
          ],
          "name": "stdout"
        }
      ]
    },
    {
      "cell_type": "code",
      "metadata": {
        "id": "foL82ih5qki9",
        "colab_type": "code",
        "colab": {
          "base_uri": "https://localhost:8080/",
          "height": 143
        },
        "outputId": "4f724813-af44-4e3d-e9d2-5ae81e10b2a7"
      },
      "source": [
        "items =(\"ruler\",\"pen\",\"eraser\")\n",
        "print(\"type(items)\")\n",
        "nums = 1,2,3\n",
        "print(type(nums))\n",
        "\n",
        "tup1 = tuple(\"python\")\n",
        "print(len(tup1))\n",
        "print(tup1)\n",
        "\n",
        "items=(\"r\",\"p\",\"e\")\n",
        "i1,i2,i3= items\n",
        "print(i1)\n",
        "print(i2)\n",
        "print(i3)"
      ],
      "execution_count": 51,
      "outputs": [
        {
          "output_type": "stream",
          "text": [
            "type(items)\n",
            "<class 'tuple'>\n",
            "6\n",
            "('p', 'y', 't', 'h', 'o', 'n')\n",
            "r\n",
            "p\n",
            "e\n"
          ],
          "name": "stdout"
        }
      ]
    },
    {
      "cell_type": "code",
      "metadata": {
        "id": "Un_94X3MsunW",
        "colab_type": "code",
        "colab": {
          "base_uri": "https://localhost:8080/",
          "height": 35
        },
        "outputId": "55fb216c-142c-4f88-8f34-43be84a5c728"
      },
      "source": [
        "ailen ={'color':'green','points':5,'colors':'red'}\n",
        "print(list(ailen.values()))\n"
      ],
      "execution_count": 57,
      "outputs": [
        {
          "output_type": "stream",
          "text": [
            "['green', 5, 'red']\n"
          ],
          "name": "stdout"
        }
      ]
    },
    {
      "cell_type": "code",
      "metadata": {
        "id": "iDIoGpv5towc",
        "colab_type": "code",
        "colab": {
          "base_uri": "https://localhost:8080/",
          "height": 161
        },
        "outputId": "73d90f58-bdd8-4899-e42b-e8cab1ec29db"
      },
      "source": [
        "content_ratings ={'4+':4433,'9+':987,'12+':1155,'17+':622}\n",
        "print(content_ratings)\n",
        "\n",
        "over_9 = content_ratings['9+']\n",
        "over_17 = content_ratings['17+']\n",
        "\n",
        "print(over_9,\" \",over_17)\n",
        "\n",
        "content_ratings = {}\n",
        "print(content_ratings)\n",
        "\n",
        "content_ratings['4+'] = 4433\n",
        "print(content_ratings)\n",
        "content_ratings['9+'] = 987\n",
        "print(content_ratings)\n",
        "content_ratings['12+'] = 1155\n",
        "print(content_ratings)\n",
        "content_ratings['17+'] = 622\n",
        "print(content_ratings)\n",
        "\n",
        "size_ = len(content_ratings)\n",
        "print(size_)\n",
        "#for range(1,size_):\n",
        " # print(content_ratings)\n",
        "  #content_ratings.popitem()"
      ],
      "execution_count": 77,
      "outputs": [
        {
          "output_type": "stream",
          "text": [
            "{'4+': 4433, '9+': 987, '12+': 1155, '17+': 622}\n",
            "987   622\n",
            "{}\n",
            "{'4+': 4433}\n",
            "{'4+': 4433, '9+': 987}\n",
            "{'4+': 4433, '9+': 987, '12+': 1155}\n",
            "{'4+': 4433, '9+': 987, '12+': 1155, '17+': 622}\n",
            "4\n"
          ],
          "name": "stdout"
        }
      ]
    },
    {
      "cell_type": "code",
      "metadata": {
        "id": "YRrhMWSSwjq0",
        "colab_type": "code",
        "colab": {
          "base_uri": "https://localhost:8080/",
          "height": 197
        },
        "outputId": "e45859e3-b26c-4396-b929-b0d6916575cb"
      },
      "source": [
        "apps_of_ages = {\n",
        "    '4+':4433,\n",
        "    '9+':987,\n",
        "    '12+':1155,\n",
        "    '17+':622\n",
        "}\n",
        "total_apps = 7197\n",
        "ratios = {}\n",
        "percentages = {}\n",
        "\n",
        "for i in apps_of_ages:\n",
        "  ratios[i] = apps_of_ages[i]/total_apps\n",
        "  percentages[i] = ratios[i]*100\n",
        "\n",
        "print(ratios)\n",
        "print(percentages)\n"
      ],
      "execution_count": 81,
      "outputs": [
        {
          "output_type": "stream",
          "text": [
            "4433\n",
            "4+\n",
            "987\n",
            "9+\n",
            "1155\n",
            "12+\n",
            "622\n",
            "17+\n",
            "{'4+': 0.6159510907322495, '9+': 0.13714047519799916, '12+': 0.16048353480616923, '17+': 0.08642489926358204}\n",
            "{'4+': 61.595109073224954, '9+': 13.714047519799916, '12+': 16.04835348061692, '17+': 8.642489926358204}\n"
          ],
          "name": "stdout"
        }
      ]
    },
    {
      "cell_type": "code",
      "metadata": {
        "id": "WJDRwzhWyTtC",
        "colab_type": "code",
        "colab": {
          "base_uri": "https://localhost:8080/",
          "height": 125
        },
        "outputId": "a32ba157-178d-4bb2-f143-f4ba35b09f40"
      },
      "source": [
        "def ds_pet(a_type,pet_name):\n",
        "  print(\"I have a \"+a_type)\n",
        "  print(\"My\"+a_type + \"'s name is \"+pet_name.upper()+\".\\n\")\n",
        "\n",
        "ds_pet('hamster','harry')\n",
        "ds_pet(\"dog\",\"bob\")"
      ],
      "execution_count": 86,
      "outputs": [
        {
          "output_type": "stream",
          "text": [
            "I have a hamster\n",
            "Myhamster's name is HARRY.\n",
            "\n",
            "I have a dog\n",
            "Mydog's name is BOB.\n",
            "\n"
          ],
          "name": "stdout"
        }
      ]
    },
    {
      "cell_type": "code",
      "metadata": {
        "id": "lu9i9JUMzur7",
        "colab_type": "code",
        "colab": {
          "base_uri": "https://localhost:8080/",
          "height": 125
        },
        "outputId": "47288406-c115-43a0-94f2-9855b9c7a9fe"
      },
      "source": [
        "def ds_pet(pet_name,a_type):\n",
        "  if a_type == '' :\n",
        "       a_type = 'cat'\n",
        "  print(\"I have a \"+a_type)\n",
        "  print(\"My\"+a_type + \"'s name is \"+pet_name.upper()+\".\\n\")\n",
        "\n",
        "ds_pet('harry','hamster')\n",
        "ds_pet(\"bob\",'')"
      ],
      "execution_count": 106,
      "outputs": [
        {
          "output_type": "stream",
          "text": [
            "I have a hamster\n",
            "Myhamster's name is HARRY.\n",
            "\n",
            "I have a cat\n",
            "Mycat's name is BOB.\n",
            "\n"
          ],
          "name": "stdout"
        }
      ]
    },
    {
      "cell_type": "code",
      "metadata": {
        "id": "hklxIiCm0yBj",
        "colab_type": "code",
        "colab": {
          "base_uri": "https://localhost:8080/",
          "height": 35
        },
        "outputId": "5569d6a3-3b43-46a4-f3fa-9ac2dbcf2555"
      },
      "source": [
        "def build_person(first_name, last_name,age=''):\n",
        "    person = {'first':first_name,'last':last_name}\n",
        "    if age:\n",
        "        person['age'] = age\n",
        "    return person\n",
        "\n",
        "musi = build_person(\"jimi\",\"hendrix\",45)\n",
        "print(musi)"
      ],
      "execution_count": 101,
      "outputs": [
        {
          "output_type": "stream",
          "text": [
            "{'first': 'jimi', 'last': 'hendrix', 'age': 45}\n"
          ],
          "name": "stdout"
        }
      ]
    },
    {
      "cell_type": "code",
      "metadata": {
        "id": "yxoVXfzK15ei",
        "colab_type": "code",
        "colab": {
          "base_uri": "https://localhost:8080/",
          "height": 53
        },
        "outputId": "22249c3a-dfa4-48e9-f21d-50a80ed09e20"
      },
      "source": [
        "def make_pizz(topp):\n",
        "    print(topp)\n",
        "\n",
        "make_pizz('pepperoni')\n",
        "make_pizz(['chees','dkfsk','adfasd'])"
      ],
      "execution_count": 111,
      "outputs": [
        {
          "output_type": "stream",
          "text": [
            "pepperoni\n",
            "['chees', 'dkfsk', 'adfasd']\n"
          ],
          "name": "stdout"
        }
      ]
    },
    {
      "cell_type": "code",
      "metadata": {
        "id": "3fkRqFgn4ibC",
        "colab_type": "code",
        "colab": {
          "base_uri": "https://localhost:8080/",
          "height": 271
        },
        "outputId": "9992aea9-c822-4ee1-a9ca-aaa98fbf5e05"
      },
      "source": [
        "import requests\n",
        "\n",
        "response = requests.get(\"https://www.google.com\")\n",
        "\n",
        "#print(response.content)\n",
        "\n",
        "print(response.status_code)\n",
        "\n",
        "print(response.headers)\n",
        "\n",
        "for key,value in response.headers.items():\n",
        "    print(key,' ',value)"
      ],
      "execution_count": 115,
      "outputs": [
        {
          "output_type": "stream",
          "text": [
            "200\n",
            "{'Date': 'Mon, 13 Jan 2020 03:14:03 GMT', 'Expires': '-1', 'Cache-Control': 'private, max-age=0', 'Content-Type': 'text/html; charset=ISO-8859-1', 'P3P': 'CP=\"This is not a P3P policy! See g.co/p3phelp for more info.\"', 'Content-Encoding': 'gzip', 'Server': 'gws', 'X-XSS-Protection': '0', 'X-Frame-Options': 'SAMEORIGIN', 'Set-Cookie': '1P_JAR=2020-01-13-03; expires=Wed, 12-Feb-2020 03:14:03 GMT; path=/; domain=.google.com; Secure, NID=195=qDK0HYSsU7wEGRsy82ZwfGRpXawG-RToTuokPMzNWCAHz3O1qoNCoijzLgcEgD8usi7YviDJxXM5qKTFMplWLiNvuMww6tM76ScQAzaHsTKLhIDAbiMeUwOzTssDzqZkOCuvc4XcdiIMiv2WH6mywUBvYQgSB6_SA5PrQ_TXzmY; expires=Tue, 14-Jul-2020 03:14:03 GMT; path=/; domain=.google.com; HttpOnly', 'Transfer-Encoding': 'chunked'}\n",
            "Date   Mon, 13 Jan 2020 03:14:03 GMT\n",
            "Expires   -1\n",
            "Cache-Control   private, max-age=0\n",
            "Content-Type   text/html; charset=ISO-8859-1\n",
            "P3P   CP=\"This is not a P3P policy! See g.co/p3phelp for more info.\"\n",
            "Content-Encoding   gzip\n",
            "Server   gws\n",
            "X-XSS-Protection   0\n",
            "X-Frame-Options   SAMEORIGIN\n",
            "Set-Cookie   1P_JAR=2020-01-13-03; expires=Wed, 12-Feb-2020 03:14:03 GMT; path=/; domain=.google.com; Secure, NID=195=qDK0HYSsU7wEGRsy82ZwfGRpXawG-RToTuokPMzNWCAHz3O1qoNCoijzLgcEgD8usi7YviDJxXM5qKTFMplWLiNvuMww6tM76ScQAzaHsTKLhIDAbiMeUwOzTssDzqZkOCuvc4XcdiIMiv2WH6mywUBvYQgSB6_SA5PrQ_TXzmY; expires=Tue, 14-Jul-2020 03:14:03 GMT; path=/; domain=.google.com; HttpOnly\n",
            "Transfer-Encoding   chunked\n"
          ],
          "name": "stdout"
        }
      ]
    },
    {
      "cell_type": "code",
      "metadata": {
        "id": "Uk1zHvvA5j07",
        "colab_type": "code",
        "colab": {}
      },
      "source": [
        ""
      ],
      "execution_count": 0,
      "outputs": []
    }
  ]
}